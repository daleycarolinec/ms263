{
 "cells": [
  {
   "cell_type": "markdown",
   "id": "e3c5c9d0-83a1-41f4-8542-842b223abd5d",
   "metadata": {
    "tags": []
   },
   "source": [
    "# Exploring Benthic Structure in California's Nearshore Marine Protected Areas \n",
    "\n",
    "MS 263 Final Project\n",
    "\n",
    "Caroline Daley | Moss Landing Marine Laboratories \n",
    "\n",
    "May 2025"
   ]
  },
  {
   "cell_type": "markdown",
   "id": "94d937b8-97e0-4cac-a8a8-61b0e143a051",
   "metadata": {},
   "source": [
    "## Introduction"
   ]
  },
  {
   "cell_type": "markdown",
   "id": "c13ea035-716b-4b0d-a136-fb41ce4537e1",
   "metadata": {},
   "source": [
    "### Background\n",
    "\n",
    "**Ecological Theory**\n",
    "\n",
    "Complex physical habitats support biodiversity and abundance of associated organisms by providing refuge from predators and disturbances, supporting competitor co-existence with heterogeneous environmental niches, and amplifying organic matter interception (Graham & Nash 2013, Kovalenko et al. 2012, Crowder & Cooper 1982, MacArthur & MacArthur 1961). In temperate rocky reef ecosystems, benthic habitat influences the distribution and abundance of mature fishes (Trebilco et al. 2015, Wedding & Yoklavich 2015) and the density-dependent recruitment and mortality of juvenile fishes (Johnson 2006, Lee & Berejikian 2009). Rocky reef fishes exhibit species-specific habitat associations (Wedding & Yoklavich 2015, Young et al. 2010, Matthews 1990,) with varying degrees of habitat fidelity (Hannah & Rankin 2011) and specificity (Laidig et al. 2009, Yoklavich et al. 2002). Water depth, rocky structure, and benthic substrate are all important factors that determine nearshore fish distribution (Love 1990). Thus, we might expect that the ability of marine protected areas (MPAs) to stimulate the recovery of biodiversity is fundamentally limited by the quality of the habitat that it protects.\n",
    "\n",
    "**California Collaborative Fisheries Research Program** \n",
    "\n",
    "The long-term monitoring of fishes within California’s network of marine protected areas (MPAs) presents a unique opportunity to investigate the relationship between habitat complexity and protection efficacy. The passage of the Marine Life Protected Act (MLPA) in 1999 mandated the creation of a cohesive statewide network of nearshore MPAs (FGC §2853(a)). Local knowledge, stakeholder input, and best available science were consulted in developing goals for the MPA network. These goals include protecting “representative and unique marine life habitats” (FGC subsection 2853(b)) while retaining suitable habitat for recreational use (Saarman and Carr 2013). The California Collaborative Fisheries Research Program (CCFRP) was subsequently developed to monitor how fish populations respond to protection in 15 MPAs distributed along the coast (Figure 1). Each MPA is paired with an adjacent reference site (REF) that is open to fishing, and 6 grid cells (fixed 500 x 500-meter areas) are randomly sampled within each treatment (MPA and REF) three times annually (Starr et al. 2015) \n",
    "\n",
    "Following over a decade of protection, fish biomass is consistently greater inside MPAs, but the strength of MPA response exhibits is highly variable along the coast (Ziegler et al. 2024). The most effective MPAs appear to be those that are larger in size, protected for longer duration, and in locations in more southern latitudes and with historically higher fishing pressure (Ziegler et al. 2022, 2024). However, it is currently unknown how habitat quality contributes to these observed trends in fish populations. Differences in habitat structure may confound the magnitude of the observed effects of MPAs on fish communities (Jainese et al. 2024, Miller et al. 2012). Defining the available habitat that underlies the sites sampled by CCFRP is crucial to contextualizing the data collected by CCFRP. CCFRP records of chronological changes in fish communities following MPA designation and detailed bathymetric maps of California’s sea floors are key components for investigating how habitat complexity mediates the impact and efficacy of California’s nearshore MPAs.\n",
    "\n",
    "\n",
    "### Approach\n",
    "In this project, I derive measurements of the benthic character at the locations sampled by CCFRP using high-resolution bathymetric maps from the [California Seafloor Mapping Program](https://www.usgs.gov/centers/pcmsc/science/california-seafloor-mapping-program). I calculate slope, aspect, curvature, rugosity, and terrain ruggedness index across the digital elevation models that overlap with CCFRP-sampled locations using the [xDEM](https://xdem.readthedocs.io/en/stable/terrain.html) package in Python. Then, I extract the mean of each habitat metric by CCFRP grid cell to match the finest scale that catch data can be reliably coupled with habitat characteristics. I examine how the calculated habitat metrics covary, as well as how they differ between MPAs and associated CCFRP-designed reference sites and across locations. This project serves as a foundation for developing a single integrated metric of habitat complexity to ultimately pair with CCFRP catch data to explore how habitat complexity mediates MPA efficacy along the coast. \n",
    "\n",
    "\n",
    "### Questions & Hypotheses\n",
    "**Q1** Do derived benthic habitat metrics covary in relation to one another? \n",
    "\n",
    "***H1*** *Benthic habitat metrics that describe similar benthic characteristics will covary.* \n",
    "\n",
    "\n",
    "**Q2** Do benthic habitat metrics differ between CCFRP sampled MPAs and their associated reference sites within a location? \n",
    "\n",
    "***H2*** *Benthic habitat metrics will differ between some MPAs and associated reference sites within a location.*\n",
    "\n",
    "\n",
    "**Q3** Do benthic habitat metrics differ between CCFRP sampled MPAs and their associated reference sites across locations? \n",
    "\n",
    "***H3*** *Benthic habitat metrics will differ between some MPAs and associated reference sites across the California coast, and the magnitude and direction of these differences will be variable.* "
   ]
  },
  {
   "cell_type": "markdown",
   "id": "ddd966c3-50f7-4d1e-b866-8ae263168cf2",
   "metadata": {
    "tags": []
   },
   "source": [
    "![CCFRP_MPA_Map](Figures/CCFRP_MPA_map.png)\n",
    "Figure 1. Marine protected areas sampled by the California Collaborative Fisheries Research Project (CCFRP). Reference map generated in ['Calculate Habitat Metrics with xDEM'](http://localhost:8888/lab/tree/Project/ms263-main%202/Calculate%20Habitat%20Metrics%20with%20xDEM.ipynb) notebook. "
   ]
  },
  {
   "cell_type": "markdown",
   "id": "db100e22-bb1b-4ab4-a0fa-4cecaf1c9533",
   "metadata": {},
   "source": [
    "## Methods & Data Sources"
   ]
  },
  {
   "cell_type": "markdown",
   "id": "326e3fac-4535-4373-8ade-c47a43e5f6ed",
   "metadata": {},
   "source": [
    "### Data Sources \n",
    "I sourced bathymetric digital elevation models (DEMs) from the [California Seafloor Mapping Program](https://www.usgs.gov/centers/pcmsc/science/california-seafloor-mapping-program). The California Seafloor Mapping Program houses a public database of high resolution (2m/pixel) DEMs of the nearshore bathymetry along the entire California coast. I used the data portal to visually identify and subsequently download DEMs that overlap with the locations sampled by [California Collaborative Fisheries Research Program (CCFRP)](https://www.ccfrp.org/) (Figure 1). After downloading the DEMs, I checked their overlap with a [shapefile of CCFRP gridcells](http://localhost:8888/lab/tree/Project/Data/shapefiles/Grid%20Cells%20Shapefile%202021http://localhost:8888/lab/tree/Project/Data/shapefiles/Grid%20Cells%20Shapefile%202021) in QGIS. I cross referenced the online portal with the overlap I observed in QGIS to make sure I had downloaded all available DEMs for my area of interest. "
   ]
  },
  {
   "cell_type": "markdown",
   "id": "5337de66-e81d-4705-94bd-f399a61fa7b6",
   "metadata": {},
   "source": [
    "### Generate Habitat Data by CCFRP Grid Cell"
   ]
  },
  {
   "cell_type": "markdown",
   "id": "fff31452-d539-4a87-877a-753bf7a40c48",
   "metadata": {},
   "source": [
    "#### Calculate Habitat Metrics with xDEM\n",
    "\n",
    "After I downloaded and organized the DEM files in my local drive, I calculated a suite of habitat metrics in the notebook using the package [xDEM](https://xdem.readthedocs.io/en/stable/about_xdem.html) in the ['Calculate Habitat Metrics with xDEM'](http://localhost:8888/lab/tree/Project/ms263-main%202/Calculate%20Habitat%20Metrics%20with%20xDEM.ipynb) notebook. I used xDEM to calculate the following metrics: \n",
    "\n",
    "* slope ($\\alpha = arctan(\\sqrt{\\frac{p}{q}})$), which describes the tilt of a pixel relative to its neighbors, where p and q are the gradient components west-to-east and south-to-north, respectively (Horn 1981) \n",
    "\n",
    "* aspect ($\\theta = arctan(\\frac{p}{q})$), which describes the orientation of the dominant slope, where p and q are the gradient components west-to-east and south-to-north, respectively (Horn 1981)\n",
    "\n",
    "* curvature ($c = -100\\frac{(h_{+0} + h_{-0} + h_{0+} + h_{h-}) - 4h_{00}}{\\Delta x \\Delta y}$), which describes the concavity and convexity of the terrain (Zevenbergen and Thorne 1987)\n",
    "\n",
    "* rugosity ($r_j = \\frac{\\sum_{k\\sum[1,8]}A(T_{00,k}}{\\Delta x \\Delta y}$), which describes terrain ruggedness as the ratio between planimetric and real surface area (Jenness 2019)\n",
    "\n",
    "* terrain ruggedness index ($tri_{Riley} = \\sqrt{\\sum_{ij}(h_{}00) - h_{ij})^2}$), which describes terrian ruggedness as the difference in elevation between a pixel and its surroundings (Riley et al. 1999). In subsequent figures, this variable is denoted as \"index.\"\n",
    "\n",
    "Additional information on the parameters for xDEM calculates habitat metric can be found at on the [xDEM 'Terrain attributes'](https://xdem.readthedocs.io/en/stable/terrain.html#rugosity) landing page. I calculated each habitat metric for each CCFRP sampling location fully encompassed by California Seafloor Mapping Program DEMs. I selected habitat metrics that are commonly used in marine ecology for this initial exploration into benthic structure. "
   ]
  },
  {
   "cell_type": "markdown",
   "id": "e7725952-c9a6-4984-9f95-10d2876f31f9",
   "metadata": {},
   "source": [
    "![pigeon_point_metric_maps](Figures/habitat_metrics_pigeon_point_maps.png)\n",
    "Figure 2. Example of habitat metrics generated using xDEM for the DEM ['Bathymetry_OffshorePigeonPoint.tif'](https://cmgds.marine.usgs.gov/data/csmp/OffshorePigeonPoint/data_catalog_OffshorePigeonPoint.html), which encompasses part of the Año Nuevo MPA and reference sites sampled by CCFRP. "
   ]
  },
  {
   "cell_type": "markdown",
   "id": "bf250376-ad1b-478f-9c8c-e5661b60199a",
   "metadata": {},
   "source": [
    "#### Zonal Statistics within CCFRP Grid Cells\n",
    "Once I generated habitat metrics for each locations sampled by CCFRP, I calculated the mean of each metric in each CCFRP grid cell using zonal statistics in the ['Zonal Statistics within CCFRP Gridcells'](http://localhost:8888/lab/tree/Project/Zonal%20Statistics%20within%20CCFRP%20Gridcells.ipynb) notebook. I overlaid derived habitat metrics with a shapefile of [CCFRP gridcells](http://localhost:8888/lab/tree/Project/Data/shapefiles/Grid%20Cells%20Shapefile%202021) to create a 2D data frame that associates the mean of each habiat metric with each grid cell by site (e.g. MPA versus REF) and location (e.g. Point Buchon). I averaged habitat metrics by grid cell because this is the finest spatial scale that I am able to reliably pair habitat data with CCFRP catch data in future analyses. I use the resultant .csv file ['habitat_metrics_summary.csv'](http://localhost:8888/lab/tree/Project/habitat_metrics_summary.csv) for all subsequent statistical analyses. "
   ]
  },
  {
   "cell_type": "markdown",
   "id": "3ef91d10-7af5-468b-8b72-44dddcaf8176",
   "metadata": {},
   "source": [
    "### Analyze Habitat Metrics "
   ]
  },
  {
   "cell_type": "markdown",
   "id": "d1082aa1-f9b0-4c7a-a91d-a8a9c1d7c1ab",
   "metadata": {},
   "source": [
    "#### Covariance of Habitat Metrics\n",
    "\n",
    "To address Q1, I performed a principal components analysis (PCA) on derived habitat metrics to examine how they covary in the ['Assessing Covariance of Habitat Metrics'](http://localhost:8888/lab/tree/Project/Assessing%20Covariance%20of%20Habitat%20Metrics.ipynb) notebook. The PCA reveals that slope, rugosity, and roughness index covary tightly both along both the first and second principal components (Figure 3). Aspect also exhibits some loading along the first principal component, though in the opposition to and not as strongly as slope, roughness index, and rugosity (Figure 3). Curvature and aspect are isolated and distinct from each other and the above described cluster (Figure 3). "
   ]
  },
  {
   "cell_type": "markdown",
   "id": "b088950b-281e-4f2f-8564-2713bd9f90cc",
   "metadata": {},
   "source": [
    "![PCA](Figures/habitat_metrics_PCA.png)\n",
    "Figure 3. Principal component analysis (PCA) of derived habitat metrics. x and y axes display first (PC1) and second principal compnents (PC2), respectively, and associated percent variance that each explains as factor loading.   "
   ]
  },
  {
   "cell_type": "markdown",
   "id": "2947e933-3a60-41fb-b1e2-42b09c6c424f",
   "metadata": {},
   "source": [
    "### Analyzing Differences in Habitat Metrics "
   ]
  },
  {
   "cell_type": "markdown",
   "id": "3ed0ea8b-b097-4fd6-b73e-1e306b64c5f6",
   "metadata": {
    "tags": []
   },
   "source": [
    "I analyzed differences in habitat metrics between sites within a location and across locations in the ['Analyzing Differences in Habitat Metrics'](http://localhost:8888/lab/tree/Project/Analyzing%20Differences%20in%20Habitat%20Metrics.ipynb) notebook. More comprehensive statistics and analysis of other locations or habitat metrics can be explored in this notebook. \n",
    "\n",
    "**Habitat Metrics Between Sites Within a Location**\n",
    "\n",
    "To examine differences in habitat metrics within a location, I performed Welch's t-tests on each habitat metrics between MPA and REF sites within a given a location. Welch's t-tests assume that the data being analyzed are independent and normal, but to not assume equal variance. Even though my data are not normal, I opted to use Welch's t-tests due to trade-offs of other non-parametric tests. "
   ]
  },
  {
   "cell_type": "markdown",
   "id": "9f03a309-802f-4def-af7e-c0b5dfaa0447",
   "metadata": {},
   "source": [
    "![idk why this isn't working...](Figures/habitat_metrics_Point_Buchon_plot.png)\n",
    "(Figure 4) Mean habitat metrics by site at Point Buchon. Green triangle denotes mean, notch and orange line denote median. Box displays the quartiles of spread of the data dataset, and the whiskers encompass rest of the distribution. Outlier points are excluded from box and whiskers."
   ]
  },
  {
   "cell_type": "markdown",
   "id": "bd00d8b4-c0ea-4f70-a988-900c3ed63dd6",
   "metadata": {},
   "source": [
    "Mean aspect is marginally different between grid cells in the MPA and REF areas at Point Buchon (Welch's t-test, p = 0.05). There is no statistically significant difference between curvature (Welch's t-test, p = 0.12),  slope (Welch's t-test, p = 0.21), or roughness index (Welch's t-test, p = 0.15). While slope, roughness index, and rugosity are all visually higher in grid cells in the reference area at Point Buchon, a statistically significant difference only exists for rugosity (Welch's t-test, p = 0.02).  "
   ]
  },
  {
   "cell_type": "markdown",
   "id": "6b4ee3c5-3a6e-4d8b-8d3d-817450f890f2",
   "metadata": {},
   "source": [
    "**Rugosity Between Sites Across Locations**\n",
    "\n",
    "To examine how benthic habitat metrics differ among CCFRP-sampled MPAs and their associated reference sites, I performed an ANOVA test on a single habitat metric (here, rugosity) between sites across all locations. ANOVAs assume that data are normally distributed and have equal variance. Though data do not meet these assumptions, I opted to use an ANOVA in order to examine the influence of location, site, and the interaction of location and site on mean habitat metric values.  "
   ]
  },
  {
   "cell_type": "markdown",
   "id": "82918688-432e-44b2-a2f9-4cc6f765800d",
   "metadata": {
    "tags": []
   },
   "source": [
    "![test](Figures/rugosity_by_location+site_plot.png)\n",
    "(Figure 5) Mean rugosity between marine protected area (MPA) and associated reference site (REF) across CCFRP-sampled locations. MPA locations are ordered by latitude from south to north going from left to right along the x-axis (Figure 1). Green triangle denotes mean, notch and black line denote median. Box displays the quartiles of spread of the data dataset, and the whiskers encompass rest of the distribution. Outlier points are excluded from box and whiskers.  "
   ]
  },
  {
   "cell_type": "markdown",
   "id": "26f58721-1632-40a5-a99e-488137726a0e",
   "metadata": {},
   "source": [
    "Rugosity differs significantly between locations (ANOVA, p < 0.001): mean rugosity at Point Conception is lower than Point Buchon (Tukey HSD, p < 0.001), Año Nuevo (Tukey HSD, p <0.001), and Cape Mendocino (Tukey HSD, p < 0.001); Bodega Head has lower mean rugosity than Point Buchon (Tukey HSD, p < 0.05), Stewarts Point (Tukey HSD, p < 0.001), and Cape Mendocino (Tukey HSD, p < 0.05); and Stewarts Point has higher mean rugosity than Point Conception (Tukey HSD, p < 0.001) and Año Nuevo (Tukey HSD, p = 0.027), but lower mean rugosity than Cape Mendocino (Tukey HSD, p < 0.05) (Figure 5). \n",
    "\n",
    "Rugosity also differs significantly by the interaction between location and site (ANOVA, p < 0.001), but not between MPA and reference sites along the coast (ANOVA, p = 0.051). Cape Mendocino is the only location where the mean rugosity differs significantly between the MPA and REF sites (ANOVA, p < 0.001, Tukey HSD, p < 0.001), where the reference site exhibits higher mean rugosity than the MPA (Figure 5). Visually, the direction and magnitude of the differences in mean rugosity by site is variable: in some locations, rugosity is higher in the marine protected area, while in others, rugosity is higher in the reference site (Figure 5). "
   ]
  },
  {
   "cell_type": "markdown",
   "id": "0c0e17d9-7e88-4148-903e-d65654002ebb",
   "metadata": {},
   "source": [
    "## Conclusions\n",
    "\n",
    "**Habitat Metric Covariance**\n",
    "\n",
    "Habitat metrics that quantify similar benthic characteristics or have similar components to their calculations do covary. The close clustering of these slope, rugosity, and roughness index suggests that these metrics describe similar characteristics of the habitat (Figure 3). The calculations for these variables all incorporate change vertical change between pixels (xDEM contributors 2024), so covariance between these metrics is not surprising. \n",
    "\n",
    "The oppositional relationship between aspect and the slope, rugosity, and roughness index cluster along the first principal component may be due to how aspect is calculated. Aspect describes the orientation of the strongest slope within the window over which the calculation is being applied. Aspect and slope (and thus roughness index and rugosity by association) may be related in this way, but it is yet unclear to me why their relationship is oppositional along the first principal component. It is possible that aspect is best described by principal component 3, which warrants further investigation in the future. Conversely, the calculation for curvature incorporates change in elevation, like the calculations for slope, rugosity, and roughness index, but curvature falls nearly at 0 along the first principal component (Figure 3). Therefore, the relationships between these variables should be explored further to better understand what drives their covariance. \n",
    "\n",
    "Though slope, rugosity, and roughness index covary tightly according to the PCA (Figure 3), a statistically significant difference in metric between MPA and reference sites at Point Buchon only exists for rugosity (ANOVA, p = 0.02). This differentiation suggests that while measurements of slope, rugosity, and roughness index covary, they are also uniquely nuanced. \n",
    "\n",
    "**Habitat Metrics By MPA and REF Sites**\n",
    "\n",
    "Some benthic habitat metrics differs between CCFRP-sampled MPAs and their associated reference sites at Point Buchon. Mean aspect and rugosity were statistically different between sites and visually higher within the MPA (Figure 4). Mean curvature, slope, and roughness index did not differ significantly, but were also visually higher within the MPA (Figure 4). At Point Buchon, habitat metrics do differ between the MPA and reference site, though the strength of these differences varies by metric. \n",
    "\n",
    "An initial description of these differences is crucial to my ongoing investigation into how benthic habitat mediates the response of nearshore fish communities to MPAs. Evidence of differences in habitat between an MPA and its reference site may be confounding CCFRP observed effects of MPAs on fish communities (Jainese et al. 2024, Miller et al. 2012). This information is foundational to ongoing explorations of the relationships between marine protection, benthic habitat, and associated fish communities along the California coast.  \n",
    "\n",
    "**Habitat Metric Across Locations**\n",
    "\n",
    "Rugosity differs between by location along the coast (Figure 5). Locations in more southerly latitudes tends to exhibit lower mean rugosity than locations in more northerly latitudes (Figure 1, Figure 5). This gradient is potential due to changes in geology along the California coast. Though nearshore fishes are known to associate with rocky structure (Love 1990), recent research using CCFRP data demonstrates that MPA responses increase in magnitude at lower latitudes, presumably in response to relief from high fishing pressure correlated with lower latitudes (Ziegler et al. 2024). This pattern opposes what we might expect based on rocky structure alone and emphasizes the importance of integrating environmental conditions into monitoring efforts. \n",
    "\n",
    "Rugosity also differs by the interaction of location and site, but not between site alone (Figure 5). The magnitude and direction of differences within a location is variable, but the only statistically significant difference occurs in Cape Mendocino, where mean rugosity is significantly higher in the reference site than the MPA. Cape Mendocino is the most northern MPA sampled by CCFRP and has higher mean rugosity than several MPAs in the scope of this study. The significant difference in mean rugosity between MPA and reference site at Cape Mendocino may be because this northerly latitude has enough range in rugosity to generate a signifianat difference, whereas more southerly locations may not be rugose enough to exhibit a significant difference between sites. "
   ]
  },
  {
   "cell_type": "markdown",
   "id": "62c8d59a-e90a-45c2-97ae-a7ef485262da",
   "metadata": {},
   "source": [
    "## Future Directions\n",
    "\n",
    "Though the theoretical evidence of the importance of habitat complexity to biodiversity is strong, habitat complexity is rarely considered the primary mechanism in hypothesis-driven empirical research of species distributions (Kovalenko et al. 2011, Kareiva 1990). Habitat complexity is specifically underexamined in marine ecosystems: of 620 articles that cited MacArthur & MacAarthur (1961), only 44 investigated empirical measurements of habitat complexity in marine ecosystems (Cunha et al. 2012). Future directions of thsi work will further address the gaps in empirical research into the impacts of habitat complexity as a driving force in the distribution and assembly of fishes in temperate rocky reef ecosystems.\n",
    "\n",
    "The code framework I built for this project will allow me to generate more habitat metrics using xDEM (e.g. [topogrpahic position index, fractal roughness](https://xdem.readthedocs.io/en/stable/terrain.html)) and examine their relationships to each other, as well as between MPAs and reference sites across locations. The nuanced relationships between derived habitat metrics will be important to consider as I work toward building a comprehensive habitat complexity index that summarizes them into a single metric to pair with CCFRP catch data. \n",
    "\n",
    "I will pair the summarized benthic complexity of each grid cell with historic CCFRP catch data to examine the relationship between benthic complexity and associations of nearshore fishes, how these relationships differ over varying spatial scales, through time, and between protected and unprotected areas. Ultimately, I will use these data to assess whether differences in habitat complexity between paired MPA-reference sites can explain the strength of MPA responses. \n",
    "\n",
    "This project is a foundation for quantifying how habitat complexity interacts with marine protection, offering a more holistic framework for evaluating spatial resource management success. Better understanding of the compounding effects of marine protection and habitat appropriateness on density-dependent changes in fish communities is foundational for establishing baselines for measuring conservation outcomes. Future work relating to this project will offer more nuanced assessments of how well California’s MPA network meets its original management goals, and, in turn, informs more realistic adaptive management alternatives. The outcomes of this research, whether in support of ecosystem-based monitoring or otherwise, are significant to the scientists who strive to understand fish communities, the recreational and commercial fisheries that hinge upon them, and the management agencies that protect them."
   ]
  },
  {
   "cell_type": "markdown",
   "id": "0ea184ff-6305-41ff-ac4a-180f9bda06f4",
   "metadata": {},
   "source": [
    "## References\n",
    "\n",
    "I borrowed and utilized code from the following sources to execute some of the ideas presented in this project, which are my own: \n",
    "\n",
    "OpenAI. (2025). ChatGPT (May 7 version) [Large language model]. https://chat.openai.com/\n",
    "\n",
    "xDEM contributors. (2024). xDEM (v0.1.0). Zenodo. https://doi.org/10.5281/zenodo.11492983\n",
    "\n",
    "## Literature Cited\n",
    "\n",
    "Crowder, L. B., & Cooper, W. E. (1982). Habitat structural complexity and the interaction between bluegills and their prey. Ecology, 63(6), 1802-1813.\n",
    "\n",
    "Graham, N. A. & Nash, K. L. (2013). The importance of structural complexity in coral reef ecosystems. Coral reefs, 32: 315-326.\n",
    "\n",
    "Hannah, R. W., & Rankin, P. S. (2011). Site Fidelity and Movement of Eight Species of Pacific Rockfish at a High-Relief Rocky Reef on the Oregon Coast. North American Journal of Fisheries Management, 31(3), 483–494.\n",
    "\n",
    "Horn, B. K. P. (1981). \"Hill shading and the reflectance map,\" in Proceedings of the IEEE, 69(1): 14-47.\n",
    "\n",
    "Jainese, C., Carlson, P. M., Seeto, K., McNeill, L., Siverston, K. & Caselle, J. E. (2024). Understanding organism-habitat relationships and critically evaluating references areas is key to marine protected area assessment. Marine Ecology Progress Series, 751: 115-131.\n",
    "\n",
    "Jenness, J. S. (2019). Calculating landscape surface area from digital elevation models. Wildlife Society Bulletin, 32(3): 829-839. \n",
    "\n",
    "Johnson, D. W. (2006). Predation, habitat complexity, and variation in density-dependent mortality of temperate reef fishes. Ecology, 87(5): 1179-1188.\n",
    "\n",
    "Kovalenko, K. E., Thomaz, S. M. & Warfe, D. M. (2012). Habitat complexity: approaches and future directions. Hydro, 685: 1–17. \n",
    "\n",
    "Laidig, T. E., Watters, D. L., & Yoklavich, M. M. (2009). Demersal fish and habitat associations from visual surveys on the central California shelf. Estuarine, coastal and shelf science, 83(4), 629-637.\n",
    "\n",
    "Lee, J. S. F. & Berejikian, B. A. (2009). Structural complexity in relation to the habitat preferences, territoriality, and hatch rearing of juvenile China rockfish (Sebastes nebulosus). Environmental Biology of Fishes, 84: 411-419.\n",
    "\n",
    "Love, M. S. (1990). Life history aspects of 19 rockfish species (Scorpaenidae: Sebastes) from the Southern California Bight. NOAA Technical Report, NMFS, 87. \n",
    "\n",
    "MacArthur, R. H. & MacArthur, J. W. (1961). On Bird Species Diversity. Ecology, 42(3): 594-598.\n",
    "\n",
    "Matthews, K. (1990). An experimental study of the habitat preferences and movement patterns of copper, quillback, and brown rockfishes (Sebastes spp.). Environmental Biology of Fishes, 29: 161-178.\n",
    "\n",
    "Miller, S. L., Shima, J. S., & Phillips, N. E. (2012). Effects of microhabitat availability on estimates of density of a reef fish: implications for assessments of marine protected areas. Hydrobiologia, 685: 173-190. \n",
    "\n",
    "Riley, S. J., DeGloria, S. D., & Elliot, R. (1999). Intermountain Journal of Science, 5(1-4): 23-27. \n",
    "\n",
    "Saarman, E. T. & Carr, M. H. (2013). The California marine life protection act: a balance of top down and bottom up governance in MPA planning. Marine Policy, 41: 41–49.\n",
    "\n",
    "Starr, R. M., Wendt, D. E., Barnes, C. L., Marks, C. I., Malone, D., Waltz, G., Schmidt, K. T., Chiu, J., Launer, A. L., Hall, N. C. & Yochum, N. (2015). Variation in responses of fishes across multiple reserves within a network of marine protected areas in temperate waters. PLoS ONE, 10.\n",
    "\n",
    "Trebilco, R., Dulvy, N. K., Steward, H., & Salomon, A. K. (2015). The role of habitat complexity in shaping the size structure of a temperature reef fish community. Marine Ecology Progress Series, 532: 197-211.\n",
    "\n",
    "Wedding, L. & Yoklavich, M. M. (2015). Habitat-based predictive mapping of rockfish density and biomass off the central California coast. Marine Ecology Progress Series, 540: 235-250.\n",
    "\n",
    "Yoklavich, M., Cailliet, G., Lea, R. N., Greene, H. G., Starr, R., de Marignac, J., & Field, J. (2002). Deepwater habitat and fish resources associated with the Big Creek Marine Ecological Reserve. Reports of California Cooperative Oceanic Fisheries Investigations, 43, 120-140.\n",
    "\n",
    "Young, M. A., Iampietro, P. J., Kvitek, R. G., & Garza, C. D. (2010). Multivariate bathymetry-derived generalized linear model accurately predicts rockfish distribution on Cordell Bank, California, USA. Marine Ecology Progress Series, 415: 247-261.\n",
    "\n",
    "Ziegler, S. L., Brooks, R. O., Hamilton, S. L., Ruttenberg, B. I., Chiu, J. A., Fields, R. T., Waltz, G. T., Shen, C., Wendt, D. E., & Starr, R. M. (2022). External fishing effort regulates positive effects of no-take marine protected areas. Biological Conservation, 269.\n",
    "Ziegler, S. L., Brooks, R. O., Bellquist, L. F., Caselle, J. E., Morgan, S. G.,  Mulligan, T. J., Ruttenberg, B. I., Semmens, B. X., Starr, R. M., Tyburczy, J., Wendt, D. E., Buchheister, A., Marin Jarrin, J. R., Pasparakis, C., Jorgensen, S. J., Chiu, J. A., Colby, J., Coscino, C. L., Davis, L., de Castro, F., Elstner, J. T.,  Honeyman, C., Jarvis Mason, E. T., Johnston, E. M., Small, S. L., Staton, J., Waltz, G.T., Basnett, B., Satterthwaite, E. V., Killeen, H., Dibble, C. D. & Hamilton, S. L. (2024). Collaborative fisheries research reveals reserve size and age determine efficacy across a network of marine protected areas. Conservation Letters, 17(2): 1-14.\n",
    "\n",
    "Zevenbergen, L. W. & Thorne, C. R. (1987). \"Quantitative analysis of land surface topography.\" Earth Surface Processes and Landforms, 12(1): 47-56.\n"
   ]
  }
 ],
 "metadata": {
  "kernelspec": {
   "display_name": "Python [conda env:data-25] *",
   "language": "python",
   "name": "conda-env-data-25-py"
  },
  "language_info": {
   "codemirror_mode": {
    "name": "ipython",
    "version": 3
   },
   "file_extension": ".py",
   "mimetype": "text/x-python",
   "name": "python",
   "nbconvert_exporter": "python",
   "pygments_lexer": "ipython3",
   "version": "3.12.8"
  }
 },
 "nbformat": 4,
 "nbformat_minor": 5
}
