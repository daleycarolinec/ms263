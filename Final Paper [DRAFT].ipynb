{
 "cells": [
  {
   "cell_type": "markdown",
   "id": "e3c5c9d0-83a1-41f4-8542-842b223abd5d",
   "metadata": {
    "tags": []
   },
   "source": [
    "# Exploring Benthic Structure in California's Nearshore Marine Protected Areas \n",
    "\n",
    "MS 263 Final Project\n",
    "\n",
    "Caroline Daley | Moss Landing Marine Laboratories \n",
    "\n",
    "May 2025"
   ]
  },
  {
   "cell_type": "markdown",
   "id": "94d937b8-97e0-4cac-a8a8-61b0e143a051",
   "metadata": {},
   "source": [
    "## Introduction"
   ]
  },
  {
   "cell_type": "markdown",
   "id": "c13ea035-716b-4b0d-a136-fb41ce4537e1",
   "metadata": {},
   "source": [
    "### Background\n",
    "\n",
    "**Ecological Theory**\n",
    "\n",
    "Complex physical habitats support biodiversity and abundance of associated organisms by providing refuge from predators and disturbances, supporting competitor co-existence with heterogeneous environmental niches, and amplifying organic matter interception (Graham & Nash 2013, Kovalenko et al. 2012, Crowder & Cooper 1982, MacArthur & MacArthur 1961). In temperate rocky reef ecosystems, benthic habitat influences the distribution and abundance of mature fishes (Trebilco et al. 2015, Wedding & Yoklavich 2015) and the density-dependent recruitment and mortality of juvenile fishes (Johnson 2006, Lee & Berejikian 2009). Rocky reef fishes exhibit species-specific habitat associations (Wedding & Yoklavich 2015, Young et al. 2010, Matthews 1990,) with varying degrees of habitat fidelity (Hannah & Rankin 2011) and specificity (Laidig et al. 2009, Yoklavich et al. 2002). Water depth, rocky structure, and benthic substrate are all important factors that determine nearshore fish distribution (Love 1990). Thus, we might expect that the ability of marine protected areas (MPAs) to stimulate the recovery of biodiversity is fundamentally limited by the quality of the habitat that it protects.\n",
    "\n",
    "**California Collaborative Fisheries Research Program** \n",
    "\n",
    "The long-term monitoring of fishes within California’s network of marine protected areas (MPAs) presents a unique opportunity to investigate the relationship between habitat complexity and protection efficacy. The passage of the Marine Life Protected Act (MLPA) in 1999 mandated the creation of a cohesive statewide network of nearshore MPAs (FGC §2853(a)). Local knowledge, stakeholder input, and best available science were consulted in developing goals for the MPA network. These goals include protecting “representative and unique marine life habitats” (FGC subsection 2853(b)) while retaining suitable habitat for recreational use (Saarman and Carr 2013). The California Collaborative Fisheries Research Program (CCFRP) was subsequently developed to monitor how fish populations respond to protection in 15 MPAs distributed along the coast (Figure 1). Each MPA is paired with an adjacent reference site (REF) that is open to fishing, and 6 grid cells (fixed 500 x 500-meter areas) are randomly sampled within each treatment (MPA and REF) three times annually (Starr et al. 2015).  \n",
    "\n",
    "\n",
    "***UNDER CONSTRUCTION...***\n",
    "\n",
    "***Following over a decade of protection, fish biomass is consistently greater inside MPAs, but the strength of MPA response exhibits is highly variable along the coast (Ziegler et al. 2024). The most effective MPAs appear to be those that are larger in size, protected for longer duration, and in locations in more southern latitudes and with historically higher fishing pressure (Ziegler et al. 2022, 2024). However, it is currently unknown how habitat quality contribtues to these observed trends in fish populations. \n",
    "Differences in habitat structure may confound the magnitude of the observed effects of MPAs on fish communities, and  (Jainese et al. 2024, Miller et al. 2012). Contextualizing \n",
    "Defining the available habitat that underlies the sites sampled by CCFRP is crucial to contextualizing the data collected by CCFRP. changes in fish communities \n",
    "CCFRP records of chronological changes in fish communities following MPA designation and new detailed maps of California’s sea floors are key components for investigating how habitat complexity mediates the impact and efficacy of California’s nearshore MPAs.***\n",
    "\n",
    "\n",
    "### Approach\n",
    "***ALSO UNDER CONSTRUCTION...***\n",
    "\n",
    "***In this project, I will characterize the benthic structure that underlies California’s MPAs using high-resolution bathymetric maps. I will calculate a suite of habitat metrics to examine how they covary, as well as how they differ between MPAs and associated CCFRP-designed reference sites*** \n",
    "\n",
    "***which I will use to explore the role of complexity as a primary mechanism in determining how fish communities assemble in temperate reef ecosystems.***\n",
    "\n",
    "### Questions & Hypotheses\n",
    "**Q1** Do derived benthic habitat metrics covary in relation to one another? \n",
    "\n",
    "***H1*** *Benthic habitat metrics that describe similar benthic characteristics will covary.* \n",
    "\n",
    "\n",
    "**Q2** Do benthic habitat metrics differ between CCFRP sampled MPAs and their associated reference sites within a location? \n",
    "\n",
    "***H2*** *Benthic habitat metrics will differ between some MPAs and associated reference sites within a location.*\n",
    "\n",
    "\n",
    "**Q3** Do benthic habitat metrics differ between CCFRP sampled MPAs and their associated reference sites across locations? \n",
    "\n",
    "***H3*** *Benthic habitat metrics will differ between some MPAs and associated reference sites across the California coast, and the magnitude and direction of these differences will be variable.* "
   ]
  },
  {
   "cell_type": "markdown",
   "id": "ddd966c3-50f7-4d1e-b866-8ae263168cf2",
   "metadata": {
    "tags": []
   },
   "source": [
    "![CCFRP_MPA_Map](Figures/CCFRP_MPA_map.png)\n",
    "Figure 1. Marine protected areas sampled by the California Collaborative Fisheries Reseaerch Project (CCFRP). Reference map generated in ['Calculate Habitat Metrics with xDEM'](http://localhost:8888/lab/tree/Project/ms263-main%202/Calculate%20Habitat%20Metrics%20with%20xDEM.ipynb) notebook. "
   ]
  },
  {
   "cell_type": "markdown",
   "id": "db100e22-bb1b-4ab4-a0fa-4cecaf1c9533",
   "metadata": {},
   "source": [
    "## Methods & Data Sources"
   ]
  },
  {
   "cell_type": "markdown",
   "id": "326e3fac-4535-4373-8ade-c47a43e5f6ed",
   "metadata": {},
   "source": [
    "### Data Sources \n",
    "I sourced bathymetric digital elevation models (DEMs) from the [California Seafloor Mapping Program](https://www.usgs.gov/centers/pcmsc/science/california-seafloor-mapping-program). I used the data portal to visually identify and subsequently download DEMs that overlap with the locations sampled by [California Collaborative Fisheries Research Program (CCFRP)](https://www.ccfrp.org/) (Figure 1). After downloading the DEMs, I checked their overlap with a [shapefile of CCFRP gridcells](http://localhost:8888/lab/tree/Project/Data/shapefiles/Grid%20Cells%20Shapefile%202021http://localhost:8888/lab/tree/Project/Data/shapefiles/Grid%20Cells%20Shapefile%202021) in QGIS. I cross referenced the online portal with the overlap I observed in QGIS to make sure I had downloaded all available DEMs for my area of interest. "
   ]
  },
  {
   "cell_type": "markdown",
   "id": "6a30ee12-0344-43a5-b12c-331360b23967",
   "metadata": {},
   "source": [
    "## Results"
   ]
  },
  {
   "cell_type": "markdown",
   "id": "5337de66-e81d-4705-94bd-f399a61fa7b6",
   "metadata": {},
   "source": [
    "### Calculate Habitat Data "
   ]
  },
  {
   "cell_type": "markdown",
   "id": "fff31452-d539-4a87-877a-753bf7a40c48",
   "metadata": {},
   "source": [
    "#### Calculate Habitat Metrics with xDEM\n",
    "\n",
    "After I downloaded and oragnized the DEM files in my local drive, I calculated a suite of habitat metrics in the  notebook using the package [xDEM](https://xdem.readthedocs.io/en/stable/about_xdem.html) in the ['Calculate Habitat Metrics with xDEM'](http://localhost:8888/lab/tree/Project/ms263-main%202/Calculate%20Habitat%20Metrics%20with%20xDEM.ipynb) notebook. I used xDEM to calculate aspect, curvature, rugosity, slope, and terrain ruggedness index rasters for each CCFRP sampling location (Figure 2). Details on the xDEM functions that calculate each metric can be found in [xDEM documentation](https://xdem.readthedocs.io/en/stable/terrain.html).  I selected habitat metrics that are commonly used in marine ecology for this initial exploration into benthic structure. "
   ]
  },
  {
   "cell_type": "markdown",
   "id": "e7725952-c9a6-4984-9f95-10d2876f31f9",
   "metadata": {},
   "source": [
    "![point_buchon_metrics](Figures/habitat_metrics_point_buchon.png)\n",
    "Figure 2. Example of xDEM generated habitat metrics generated from the DEM that encompasses Point Buchon MPA and REF sampling locations. "
   ]
  },
  {
   "cell_type": "markdown",
   "id": "bf250376-ad1b-478f-9c8c-e5661b60199a",
   "metadata": {},
   "source": [
    "#### Zonal Statistics within CCFRP Gridcells\n",
    "Once I generated habitat metrics for each locations sampled by CCFRP, I calculated the mean of each metric in each CCFRP gridcell using zonal statistics in the [Zonal Statistics within CCFRP Gridcells](http://localhost:8888/lab/tree/Project/Zonal%20Statistics%20within%20CCFRP%20Gridcells.ipynb) notebook. I overlaid derived habitat metrics with a shapefile of [CCFRP gridcells](http://localhost:8888/lab/tree/Project/Data/shapefiles/Grid%20Cells%20Shapefile%202021) to create a 2D dataframe that associates the mean of each habiat metric with each gridcell by site (e.g. MPA versus REF) and location (e.g. Point Buchon). I use the [resultant .csv file](http://localhost:8888/lab/tree/Project/habitat_metrics_summary.csv) for all subsequent statistical analyses. "
   ]
  },
  {
   "cell_type": "markdown",
   "id": "3ef91d10-7af5-468b-8b72-44dddcaf8176",
   "metadata": {},
   "source": [
    "### Analyze Habitat Metrics "
   ]
  },
  {
   "cell_type": "markdown",
   "id": "d1082aa1-f9b0-4c7a-a91d-a8a9c1d7c1ab",
   "metadata": {},
   "source": [
    "#### Covariance of Habitat Metrics\n",
    "\n",
    "To address Q1, I performed a principal components analysis (PCA) on derived habitat metrics to examine how they covary in the [Assessing Covaraince of Habitat Metrics](http://localhost:8888/lab/tree/Project/Assessing%20Covariance%20of%20Habitat%20Metrics.ipynb) notebook. The PCA reveals that slope, rugosity, and roughness index covary tightly both along both the first and second principal components (Figure 3). The close clustering of these variables suggests that these metrics describe similar characteristics of the habitat. The calculations for slope, rugosity, and roughness index all incoroporate change vertical change between pixels (xDEM contributors 2024), so covariance between these metrics is not surprising. \n",
    "\n",
    "Curvature and aspect, however, are isolated and distinct from each other and the above described cluster (Figure 3). While calculation for curvature also incoproates change in elevation, it primarily describes the convexity or concavity of the terrain, while aspect describes the orientation of the slope. Thus, curvature and asapect represent asepects of the benthic landscape that are distinct from one another and the slope-rugosity-roughness index cluser. "
   ]
  },
  {
   "cell_type": "markdown",
   "id": "b088950b-281e-4f2f-8564-2713bd9f90cc",
   "metadata": {},
   "source": [
    "![PCA](Figures/habitat_metrics_PCA.png)\n",
    "Figure 3. Principal component analysis (PCA) of derived habitat metrics. Axes display first and second principal compnents and associated percent variance.   "
   ]
  },
  {
   "cell_type": "markdown",
   "id": "2947e933-3a60-41fb-b1e2-42b09c6c424f",
   "metadata": {},
   "source": [
    "### Analyzing Differences in Habitat Metrics "
   ]
  },
  {
   "cell_type": "markdown",
   "id": "3ed0ea8b-b097-4fd6-b73e-1e306b64c5f6",
   "metadata": {
    "tags": []
   },
   "source": [
    "I analyzed differences in habitat metrics between sites within a location and across locations in the [Analyzing Differences in Habitat Metrics](http://localhost:8888/lab/tree/Project/Analyzing%20Differences%20in%20Habitat%20Metrics.ipynb) notebook.\n",
    "\n",
    "**Habitat Metrics Between Sites Within a Location**\n",
    "\n",
    "To examine differences in habitat metrics within a location, I performed Welch's t-tests on each habitat metrics between MPA and REF sites within a given a location. Welch's t-tests assume that the data being analyzed are independnet and normal, but to not assume equal variance. Even though my data are not normal, I opted to use Welch's t-tests due to trade-offs of other non-parametric tests. "
   ]
  },
  {
   "cell_type": "markdown",
   "id": "9f03a309-802f-4def-af7e-c0b5dfaa0447",
   "metadata": {},
   "source": [
    "![idk why this isn't working...](Figures/habitat_metrics_Point Buchon_plot.png)\n",
    "(Figure 4) Mean habitat metrics by site at Point Buchon. "
   ]
  },
  {
   "cell_type": "code",
   "execution_count": 4,
   "id": "7925fdeb-c273-4519-b89a-9d667268330b",
   "metadata": {
    "tags": []
   },
   "outputs": [
    {
     "data": {
      "image/png": "[encoded data removed]",
      "text/plain": [
       "<Figure size 640x480 with 1 Axes>"
      ]
     },
     "metadata": {},
     "output_type": "display_data"
    }
   ],
   "source": [
    "# So here it is instead! \n",
    "import matplotlib.image as mpimg\n",
    "import matplotlib.pyplot as plt\n",
    "\n",
    "image_path = ('/Users/carolinedaley/Documents/MLML/MS263/Project/Figures/habitat_metrics_Cape Mendocino_plot.png')\n",
    "\n",
    "img = mpimg.imread(image_path)\n",
    "plt.imshow(img)\n",
    "plt.axis('off')  # Hide axes\n",
    "plt.show()"
   ]
  },
  {
   "cell_type": "markdown",
   "id": "bd00d8b4-c0ea-4f70-a988-900c3ed63dd6",
   "metadata": {},
   "source": [
    "Mean aspect is marginally different between gridcells in the MPA and REF areas at Point Buchon (p = 0.05). There is no statistically significant differnece between curvature (p = 0.12),  slope (p = 0.21), or roughness index (p = 0.15). While slope, roughness index, and rugosity are all visually higher in gridcells in the reference area at Point Buchon, a statistically significant difference only exists for rugosity (p = 0.02). Thus, though these variables covary closely (Figure 3), this difference suggests that they may have nuanced differences not captured by the PCA. Therefore, benthic habiat metrics do differ between MPA and associated reference sites in CCFRP-sampled gridcells within a given location. However, the direction and strength of these differences varies by metric.  "
   ]
  },
  {
   "cell_type": "markdown",
   "id": "6b4ee3c5-3a6e-4d8b-8d3d-817450f890f2",
   "metadata": {},
   "source": [
    "**Rugosity Between Sites Across Locations**\n",
    "\n",
    "To examine how benthic habitat metrics differ among CCFRP-sampled MPAs and their associated reference sites, I performed an ANOVA test on a single habitat metric (rugosity) between sites across all locations. ANOVAs assume that data are normally distributed and have equal variance. Though data do not meet these assumptions, I opted to use an ANOVA in order to examine the influence of location, site, and the interaction of location and site on mean habitat metric values.  \n",
    "\n"
   ]
  },
  {
   "cell_type": "markdown",
   "id": "82918688-432e-44b2-a2f9-4cc6f765800d",
   "metadata": {
    "tags": []
   },
   "source": [
    "![test](Figures/rugosity_by_location+site_plot.png)\n",
    "(Figure 5) Mean rugosity between marine protected area (MPA) and associated reference site (REF) across CCFRP-sampled locations. "
   ]
  },
  {
   "cell_type": "markdown",
   "id": "26f58721-1632-40a5-a99e-488137726a0e",
   "metadata": {},
   "source": [
    "Rugosity differs significantly between both locations (ANOVA, p < 0.001) and marginally between MPA and reference site along the coast (ANOVA, p = 0.051). Rugosity also differs significantly by the interaction between location and site (ANOVA, p < 0.001). Visually, the direction and magnitude of the differences in mean rugosity by site is variable: in some locations, rugosity is higher in the marine protected area (Cape Mendocino, Bodega Head), while in others, rugosity is higher in the reference site (Point Buchon, Stewarts Point) (Figure 5). "
   ]
  },
  {
   "cell_type": "markdown",
   "id": "0c0e17d9-7e88-4148-903e-d65654002ebb",
   "metadata": {},
   "source": [
    "## Conclusions\n",
    "\n",
    "***UNDER CONSTRUCTION***"
   ]
  },
  {
   "cell_type": "markdown",
   "id": "62c8d59a-e90a-45c2-97ae-a7ef485262da",
   "metadata": {},
   "source": [
    "## Future Directions\n",
    "\n",
    "***UNDER CONSTRUCTION***"
   ]
  },
  {
   "cell_type": "markdown",
   "id": "0ea184ff-6305-41ff-ac4a-180f9bda06f4",
   "metadata": {},
   "source": [
    "## References\n",
    "\n",
    "I borrowed and utilized code from the following sources to execute some of the ideas presented in this project, which are my own: \n",
    "\n",
    "OpenAI. (2025). ChatGPT (May 7 version) [Large language model]. https://chat.openai.com/\n",
    "\n",
    "xDEM contributors. (2024). xDEM (v0.1.0). Zenodo. https://doi.org/10.5281/zenodo.11492983\n",
    "\n",
    "***UNDER CONSTRUCTION***"
   ]
  }
 ],
 "metadata": {
  "kernelspec": {
   "display_name": "Python [conda env:data-25] *",
   "language": "python",
   "name": "conda-env-data-25-py"
  },
  "language_info": {
   "codemirror_mode": {
    "name": "ipython",
    "version": 3
   },
   "file_extension": ".py",
   "mimetype": "text/x-python",
   "name": "python",
   "nbconvert_exporter": "python",
   "pygments_lexer": "ipython3",
   "version": "3.12.8"
  }
 },
 "nbformat": 4,
 "nbformat_minor": 5
}
