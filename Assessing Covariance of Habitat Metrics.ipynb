{
 "cells": [
  {
   "cell_type": "markdown",
   "id": "32da719c-f3e4-429b-a243-2f1d425fbed9",
   "metadata": {},
   "source": [
    "# 3. Assessing Covariance of Habitat Metrics\n",
    "MS 263 Final Project\n",
    "\n",
    "Caroline Daley | Moss Landing Marine Laboratories \n",
    "\n",
    "May 2025"
   ]
  },
  {
   "cell_type": "code",
   "execution_count": 14,
   "id": "f7b359f5-8d94-4338-8c59-4b5f435f533e",
   "metadata": {
    "tags": []
   },
   "outputs": [],
   "source": [
    "import numpy as np\n",
    "import pandas as pd\n",
    "from scipy import stats\n",
    "import matplotlib.pyplot as plt\n",
    "from scipy import linalg\n",
    "import os"
   ]
  },
  {
   "cell_type": "markdown",
   "id": "b04c707b-3443-4270-992c-c300d6fc00bf",
   "metadata": {},
   "source": [
    "Import the habitat metrics dataset that you generated in the 'Zonal Statistics with CCFRP Gridcells' notebook as a .csv file. Remove columns and rows of habitat metrics that are populated by NaN values. "
   ]
  },
  {
   "cell_type": "code",
   "execution_count": 3,
   "id": "9c0801d9-3eaf-4577-bbbe-12ae0fa49511",
   "metadata": {
    "tags": []
   },
   "outputs": [],
   "source": [
    "df = pd.read_csv('/Users/carolinedaley/Documents/MLML/MS263/Project/habitat_metrics_summary.csv')\n",
    "\n",
    "# Remove rows where habitat metrics are Nan\n",
    "habitat_metrics = ['aspect', 'curvature', 'rugosity', 'slope', 'index']\n",
    "df_cleaned = df.dropna(subset=habitat_metrics, how='all')\n",
    "\n",
    "# Remove columns that have no data \n",
    "df_cleaned = df_cleaned.dropna(axis=1, how='all')"
   ]
  },
  {
   "cell_type": "code",
   "execution_count": 4,
   "id": "56a96f3d-2678-4a01-ac1a-2a5e8a01d2cb",
   "metadata": {
    "tags": []
   },
   "outputs": [
    {
     "data": {
      "text/html": [
       "<div>\n",
       "<style scoped>\n",
       "    .dataframe tbody tr th:only-of-type {\n",
       "        vertical-align: middle;\n",
       "    }\n",
       "\n",
       "    .dataframe tbody tr th {\n",
       "        vertical-align: top;\n",
       "    }\n",
       "\n",
       "    .dataframe thead th {\n",
       "        text-align: right;\n",
       "    }\n",
       "</style>\n",
       "<table border=\"1\" class=\"dataframe\">\n",
       "  <thead>\n",
       "    <tr style=\"text-align: right;\">\n",
       "      <th></th>\n",
       "      <th>ID</th>\n",
       "      <th>Site</th>\n",
       "      <th>aspect</th>\n",
       "      <th>curvature</th>\n",
       "      <th>rugosity</th>\n",
       "      <th>slope</th>\n",
       "      <th>index</th>\n",
       "    </tr>\n",
       "  </thead>\n",
       "  <tbody>\n",
       "    <tr>\n",
       "      <th>100</th>\n",
       "      <td>REF</td>\n",
       "      <td>Point Conception</td>\n",
       "      <td>198.310460</td>\n",
       "      <td>0.000473</td>\n",
       "      <td>1.002540</td>\n",
       "      <td>2.543214</td>\n",
       "      <td>0.127306</td>\n",
       "    </tr>\n",
       "    <tr>\n",
       "      <th>101</th>\n",
       "      <td>MPA</td>\n",
       "      <td>Point Conception</td>\n",
       "      <td>191.860160</td>\n",
       "      <td>0.011771</td>\n",
       "      <td>1.002166</td>\n",
       "      <td>3.245501</td>\n",
       "      <td>0.142615</td>\n",
       "    </tr>\n",
       "    <tr>\n",
       "      <th>102</th>\n",
       "      <td>MPA</td>\n",
       "      <td>Point Conception</td>\n",
       "      <td>170.073168</td>\n",
       "      <td>0.009044</td>\n",
       "      <td>1.001392</td>\n",
       "      <td>2.724835</td>\n",
       "      <td>0.120513</td>\n",
       "    </tr>\n",
       "    <tr>\n",
       "      <th>103</th>\n",
       "      <td>MPA</td>\n",
       "      <td>Point Conception</td>\n",
       "      <td>182.385872</td>\n",
       "      <td>0.007920</td>\n",
       "      <td>1.001180</td>\n",
       "      <td>2.441027</td>\n",
       "      <td>0.108269</td>\n",
       "    </tr>\n",
       "    <tr>\n",
       "      <th>104</th>\n",
       "      <td>REF</td>\n",
       "      <td>Point Conception</td>\n",
       "      <td>192.110644</td>\n",
       "      <td>0.000405</td>\n",
       "      <td>1.000722</td>\n",
       "      <td>1.534782</td>\n",
       "      <td>0.073460</td>\n",
       "    </tr>\n",
       "    <tr>\n",
       "      <th>...</th>\n",
       "      <td>...</td>\n",
       "      <td>...</td>\n",
       "      <td>...</td>\n",
       "      <td>...</td>\n",
       "      <td>...</td>\n",
       "      <td>...</td>\n",
       "      <td>...</td>\n",
       "    </tr>\n",
       "    <tr>\n",
       "      <th>419</th>\n",
       "      <td>REF</td>\n",
       "      <td>Cape Mendocino</td>\n",
       "      <td>182.757239</td>\n",
       "      <td>0.002168</td>\n",
       "      <td>1.035670</td>\n",
       "      <td>10.292155</td>\n",
       "      <td>1.041077</td>\n",
       "    </tr>\n",
       "    <tr>\n",
       "      <th>420</th>\n",
       "      <td>REF</td>\n",
       "      <td>Cape Mendocino</td>\n",
       "      <td>181.971878</td>\n",
       "      <td>0.016504</td>\n",
       "      <td>1.042806</td>\n",
       "      <td>11.395760</td>\n",
       "      <td>1.160871</td>\n",
       "    </tr>\n",
       "    <tr>\n",
       "      <th>421</th>\n",
       "      <td>REF</td>\n",
       "      <td>Cape Mendocino</td>\n",
       "      <td>181.020959</td>\n",
       "      <td>0.011323</td>\n",
       "      <td>1.039909</td>\n",
       "      <td>11.477960</td>\n",
       "      <td>1.147830</td>\n",
       "    </tr>\n",
       "    <tr>\n",
       "      <th>422</th>\n",
       "      <td>REF</td>\n",
       "      <td>Cape Mendocino</td>\n",
       "      <td>176.341652</td>\n",
       "      <td>-0.003131</td>\n",
       "      <td>1.023055</td>\n",
       "      <td>8.533854</td>\n",
       "      <td>0.833589</td>\n",
       "    </tr>\n",
       "    <tr>\n",
       "      <th>423</th>\n",
       "      <td>REF</td>\n",
       "      <td>Cape Mendocino</td>\n",
       "      <td>180.465632</td>\n",
       "      <td>0.016444</td>\n",
       "      <td>1.014327</td>\n",
       "      <td>6.085503</td>\n",
       "      <td>0.587911</td>\n",
       "    </tr>\n",
       "  </tbody>\n",
       "</table>\n",
       "<p>190 rows × 7 columns</p>\n",
       "</div>"
      ],
      "text/plain": [
       "      ID              Site      aspect  curvature  rugosity      slope  \\\n",
       "100  REF  Point Conception  198.310460   0.000473  1.002540   2.543214   \n",
       "101  MPA  Point Conception  191.860160   0.011771  1.002166   3.245501   \n",
       "102  MPA  Point Conception  170.073168   0.009044  1.001392   2.724835   \n",
       "103  MPA  Point Conception  182.385872   0.007920  1.001180   2.441027   \n",
       "104  REF  Point Conception  192.110644   0.000405  1.000722   1.534782   \n",
       "..   ...               ...         ...        ...       ...        ...   \n",
       "419  REF    Cape Mendocino  182.757239   0.002168  1.035670  10.292155   \n",
       "420  REF    Cape Mendocino  181.971878   0.016504  1.042806  11.395760   \n",
       "421  REF    Cape Mendocino  181.020959   0.011323  1.039909  11.477960   \n",
       "422  REF    Cape Mendocino  176.341652  -0.003131  1.023055   8.533854   \n",
       "423  REF    Cape Mendocino  180.465632   0.016444  1.014327   6.085503   \n",
       "\n",
       "        index  \n",
       "100  0.127306  \n",
       "101  0.142615  \n",
       "102  0.120513  \n",
       "103  0.108269  \n",
       "104  0.073460  \n",
       "..        ...  \n",
       "419  1.041077  \n",
       "420  1.160871  \n",
       "421  1.147830  \n",
       "422  0.833589  \n",
       "423  0.587911  \n",
       "\n",
       "[190 rows x 7 columns]"
      ]
     },
     "execution_count": 4,
     "metadata": {},
     "output_type": "execute_result"
    }
   ],
   "source": [
    "df_cleaned"
   ]
  },
  {
   "cell_type": "markdown",
   "id": "b34d7fc9-21e3-44a8-90b9-207057fd223c",
   "metadata": {},
   "source": [
    "Define the habiat metrics that you are intersted in analyzing. This variable will be called throughout the code, so make sure it's up to date! "
   ]
  },
  {
   "cell_type": "code",
   "execution_count": 5,
   "id": "74728c64-81e7-499e-965e-44825be91fd4",
   "metadata": {
    "tags": []
   },
   "outputs": [],
   "source": [
    "habitat_metrics = ['aspect', 'curvature', 'rugosity', 'slope', 'index']"
   ]
  },
  {
   "cell_type": "markdown",
   "id": "4aacae25-b196-4d0c-ab29-f2bb1b277e1a",
   "metadata": {
    "tags": []
   },
   "source": [
    "## Principal Component Analysis of Habitat Metrics"
   ]
  },
  {
   "cell_type": "markdown",
   "id": "e94bf95a-faad-498d-a384-80f9f84cb855",
   "metadata": {},
   "source": [
    "Create a data matrix containing the variables plotted above, and create a second matrix where each variable has been standardized by computing the z-scores. "
   ]
  },
  {
   "cell_type": "code",
   "execution_count": 4,
   "id": "4dfc845c-8bee-4f9b-a671-24917cc2ca09",
   "metadata": {
    "tags": []
   },
   "outputs": [
    {
     "name": "stdout",
     "output_type": "stream",
     "text": [
      "(190, 5)\n"
     ]
    }
   ],
   "source": [
    "habitat_data = df_cleaned[habitat_metrics]\n",
    "print(np.shape(habitat_data))"
   ]
  },
  {
   "cell_type": "code",
   "execution_count": 5,
   "id": "df7cc512-993f-4379-a2b5-abaf30176542",
   "metadata": {
    "tags": []
   },
   "outputs": [
    {
     "data": {
      "text/plain": [
       "(190, 5)"
      ]
     },
     "execution_count": 5,
     "metadata": {},
     "output_type": "execute_result"
    }
   ],
   "source": [
    "habitat_norm = (habitat_data - np.mean(habitat_data, axis = 0)) / np.std(habitat_data, axis = 0, ddof= 1)\n",
    "# axis = 0 specifies that means are by column, ddof = 1 specifies that std is unbiased  \n",
    "np.shape(habitat_norm)"
   ]
  },
  {
   "cell_type": "code",
   "execution_count": 6,
   "id": "6633ce67-18b7-4f2f-9fcd-d25a9aeae735",
   "metadata": {
    "tags": []
   },
   "outputs": [
    {
     "name": "stdout",
     "output_type": "stream",
     "text": [
      "aspect       4.207161e-15\n",
      "curvature   -1.869849e-17\n",
      "rugosity     6.450980e-15\n",
      "slope        1.495879e-16\n",
      "index        2.243819e-16\n",
      "dtype: float64\n",
      "aspect       1.0\n",
      "curvature    1.0\n",
      "rugosity     1.0\n",
      "slope        1.0\n",
      "index        1.0\n",
      "dtype: float64\n"
     ]
    }
   ],
   "source": [
    "# sanity check! \n",
    "print(np.mean(habitat_norm, axis = 0)) # should be computuationally zero\n",
    "print(np.std(habitat_norm, axis = 0, ddof = 1)) # should be 1's "
   ]
  },
  {
   "cell_type": "markdown",
   "id": "4534c8b3-2f8a-4711-8073-010ace2355ad",
   "metadata": {},
   "source": [
    "Extract the eigenvalues and eigenvectors of the correlation matrix. "
   ]
  },
  {
   "cell_type": "code",
   "execution_count": 7,
   "id": "19fe5427-626c-4944-a3f0-d17ff1871c75",
   "metadata": {
    "tags": []
   },
   "outputs": [
    {
     "name": "stdout",
     "output_type": "stream",
     "text": [
      "[[ 1.         -0.03294587 -0.25395942 -0.36042338 -0.30977739]\n",
      " [-0.03294587  1.         -0.0413706  -0.01704724 -0.02753793]\n",
      " [-0.25395942 -0.0413706   1.          0.93799083  0.94552321]\n",
      " [-0.36042338 -0.01704724  0.93799083  1.          0.99171463]\n",
      " [-0.30977739 -0.02753793  0.94552321  0.99171463  1.        ]]\n",
      "(5, 5)\n"
     ]
    }
   ],
   "source": [
    "# compute correlation matrix \n",
    "R = np.cov(habitat_norm, rowvar = False)\n",
    "print(R)\n",
    "print(R.shape)"
   ]
  },
  {
   "cell_type": "code",
   "execution_count": 9,
   "id": "987189e3-39c9-4374-b8cb-fc6cefaf07d7",
   "metadata": {
    "tags": []
   },
   "outputs": [],
   "source": [
    "values, vectors = linalg.eig(R)\n",
    "values = np.real(values)"
   ]
  },
  {
   "cell_type": "markdown",
   "id": "b76387b6-14e1-4afc-b706-6cd38b2c2400",
   "metadata": {},
   "source": [
    "Sort the eigenvalues and eigenvectors so that they are arranged in order of decreasing variance (PC1 first, PC2 second, etc.). "
   ]
  },
  {
   "cell_type": "code",
   "execution_count": 10,
   "id": "186780d7-10b2-427e-8dea-8f760523473c",
   "metadata": {
    "tags": []
   },
   "outputs": [
    {
     "name": "stdout",
     "output_type": "stream",
     "text": [
      "[3.05662621 1.01370555 0.85299039 0.0699558  0.00672205]\n",
      "[[ 0.25119399 -0.29061529  0.91945583  0.07464484 -0.03838564]\n",
      " [ 0.01921919  0.95433511  0.29774471 -0.01395508  0.0053354 ]\n",
      " [-0.54795815 -0.06148084  0.19492885 -0.81067911 -0.02764222]\n",
      " [-0.56541133 -0.00609145  0.08860784  0.42779738 -0.69957913]\n",
      " [-0.56265806 -0.03114886  0.14177609  0.39245659  0.71296775]]\n"
     ]
    }
   ],
   "source": [
    "idx = values.argsort()[::-1]   \n",
    "values_sorted = values[idx]\n",
    "vectors_sorted = vectors[:,idx]\n",
    "\n",
    "print(values_sorted)\n",
    "print(vectors_sorted)"
   ]
  },
  {
   "cell_type": "markdown",
   "id": "ab5d2057-7252-42db-bc05-7ce3edb4cc12",
   "metadata": {
    "tags": []
   },
   "source": [
    "Compute and plot the factor loadings. "
   ]
  },
  {
   "cell_type": "code",
   "execution_count": 11,
   "id": "e06fc535-72b3-4edf-990f-ec6649106558",
   "metadata": {
    "tags": []
   },
   "outputs": [],
   "source": [
    "Lambda = np.diag(values)\n",
    "\n",
    "A = np.dot(vectors, Lambda**0.5)"
   ]
  },
  {
   "cell_type": "code",
   "execution_count": 12,
   "id": "287f260c-bcf5-42b1-858e-4df089da165e",
   "metadata": {
    "tags": []
   },
   "outputs": [],
   "source": [
    "percent_variance_PC1 = int(100*(values_sorted[0]/np.sum(values_sorted)))\n",
    "percent_variance_PC2 = int(100*(values_sorted[1]/np.sum(values_sorted)))"
   ]
  },
  {
   "cell_type": "code",
   "execution_count": 15,
   "id": "f0c18b91-d167-48af-ab84-996bc81e96d1",
   "metadata": {
    "tags": []
   },
   "outputs": [
    {
     "data": {
      "image/png": "[encoded data removed]",
      "text/plain": [
       "<Figure size 640x480 with 1 Axes>"
      ]
     },
     "metadata": {},
     "output_type": "display_data"
    }
   ],
   "source": [
    "plt.figure()\n",
    "plt.xlim([-1,1])\n",
    "plt.ylim([-1,1])\n",
    "\n",
    "plt.xlabel(f'PC1 loading ({percent_variance_PC1}%)')\n",
    "plt.ylabel(f'PC2 loading ({percent_variance_PC2}%)')\n",
    "\n",
    "for i,txt in enumerate(habitat_metrics):\n",
    "    plt.plot([0,A[i,0]],[0,A[i,1]],'-')\n",
    "    plt.text(A[i,0],A[i,1],txt)\n",
    "    \n",
    "plt.tight_layout()\n",
    "\n",
    "output_dir = \"/Users/carolinedaley/Documents/MLML/MS263/Project/Figures\"\n",
    "\n",
    "output_path = os.path.join(output_dir, \"habitat_metrics_PCA.png\")\n",
    "plt.savefig(output_path, dpi=300)\n",
    "\n",
    "plt.show()"
   ]
  }
 ],
 "metadata": {
  "kernelspec": {
   "display_name": "Python [conda env:data-25] *",
   "language": "python",
   "name": "conda-env-data-25-py"
  },
  "language_info": {
   "codemirror_mode": {
    "name": "ipython",
    "version": 3
   },
   "file_extension": ".py",
   "mimetype": "text/x-python",
   "name": "python",
   "nbconvert_exporter": "python",
   "pygments_lexer": "ipython3",
   "version": "3.12.8"
  }
 },
 "nbformat": 4,
 "nbformat_minor": 5
}
