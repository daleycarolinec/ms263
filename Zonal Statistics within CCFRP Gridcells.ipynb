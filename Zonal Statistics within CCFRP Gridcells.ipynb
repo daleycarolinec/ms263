{
 "cells": [
  {
   "cell_type": "markdown",
   "id": "481a6451-2bf3-4065-bd8c-b7ec34849ffa",
   "metadata": {},
   "source": [
    "# Calculating Zonal Statistics \n",
    "MS 263 Final Project\n",
    "\n",
    "Caroline Daley | Moss Landing Marine Laboratories \n",
    "\n",
    "May 2025"
   ]
  },
  {
   "cell_type": "code",
   "execution_count": 22,
   "id": "f6b3ebe1-777f-4f15-8ae1-c06f8b2f1833",
   "metadata": {
    "tags": []
   },
   "outputs": [],
   "source": [
    "import geopandas as gpd\n",
    "import pandas as pd\n",
    "import rasterio\n",
    "from rasterio.features import geometry_mask\n",
    "import glob\n",
    "import os\n",
    "import xdem\n",
    "from shapely.geometry import box"
   ]
  },
  {
   "cell_type": "markdown",
   "id": "431cb1d2-15f6-42f8-a854-4dc061223173",
   "metadata": {},
   "source": [
    "Connect to local database to access habitat metric files created in \"\", as well as a shapefile of CCFRP gridcells. Make sure the habitat metric rasters and gridcell shapefile are in the same spatial reference system. "
   ]
  },
  {
   "cell_type": "code",
   "execution_count": 23,
   "id": "b060cbb8-f191-4a23-ace4-b7a820431feb",
   "metadata": {
    "tags": []
   },
   "outputs": [],
   "source": [
    "raster_folder = \"C:\\\\Users\\\\FELAB\\\\Documents\\\\MS263\\\\Python\\\\xDEM_Habitat_Metrics\"\n",
    "shapefile_path = \"C:\\\\Users\\\\FELAB\\\\Documents\\\\MS263\\\\Python\\\\Shapefiles\\\\CCFRP Gridcells\\\\CCFRP_Grid_Cells_2021.shp\""
   ]
  },
  {
   "cell_type": "markdown",
   "id": "eefb2eab-6675-4410-b23e-336b57659c65",
   "metadata": {},
   "source": [
    "Make sure that the spatial reference of the shapefile matches the rasters of habitat metrics. "
   ]
  },
  {
   "cell_type": "code",
   "execution_count": 24,
   "id": "7ed387e9-2a05-43e8-9d16-ac765c13a7c9",
   "metadata": {
    "tags": []
   },
   "outputs": [],
   "source": [
    "reprojected_shapefile_path = shapefile_path+'_reprojected.shp'\n",
    "\n",
    "gridcells = gpd.read_file(shapefile_path)\n",
    "\n",
    "# --- Get CRS from first DEM ---\n",
    "raster_files = glob.glob(os.path.join(raster_folder, '*.tif'))\n",
    "first_raster = raster_files[0]\n",
    "\n",
    "# Get the CRS from the first DEM file\n",
    "with rasterio.open(first_raster) as src:\n",
    "    common_crs = src.crs  # Define common crs for project\n",
    "\n",
    "gridcells = gridcells.to_crs(common_crs)\n",
    "gridcells.to_file(reprojected_shapefile_path)"
   ]
  },
  {
   "cell_type": "code",
   "execution_count": 25,
   "id": "6ed57e22-be79-4bbf-82bf-01af7e17f54a",
   "metadata": {
    "tags": []
   },
   "outputs": [
    {
     "name": "stdout",
     "output_type": "stream",
     "text": [
      "Summary saved to 'habitat_metrics_summary.csv'\n"
     ]
    }
   ],
   "source": [
    "# Locate newly reprojected shapefile\n",
    "gridcells = gpd.read_file(reprojected_shapefile_path)\n",
    "\n",
    "# Identify relevant attributes\n",
    "site_field = 'Site'       # 'Site' notes the area (e.g. Point Lobos)\n",
    "id_field = 'ID'           # 'ID' notes whether the gridcell is in an MPA or REF\n",
    "\n",
    "# Redefine where habitat metric rasters are located \n",
    "raster_files = glob.glob(os.path.join(raster_folder, '*.tif'))\n",
    "\n",
    "# Build a container for results\n",
    "results = []\n",
    "\n",
    "# Loop over all grid cells\n",
    "for idx, row in gridcells.iterrows():\n",
    "    # Get ID and Site for each grid cell\n",
    "    site = row[site_field] if pd.notna(row[site_field]) else 'Unknown'\n",
    "    \n",
    "    # Container for the grid cell's habitat metrics\n",
    "    grid_cell_metrics = {\n",
    "        \"ID\": row[id_field],  # Include ID from shapefile\n",
    "        \"Site\": site          # Include Site from shapefile\n",
    "    }\n",
    "\n",
    "    # Loop over each raster (habitat metric) file\n",
    "    for filepath in raster_files:\n",
    "        filename = os.path.basename(filepath)\n",
    "        habitat_metric = filename.split('_')[-1].replace('.tif', '')\n",
    "\n",
    "        # Open the raster (DEM)\n",
    "        with rasterio.open(filepath) as src:\n",
    "            raster_crs = src.crs\n",
    "\n",
    "            # Reproject shapefile to match raster CRS if needed\n",
    "            if gridcells.crs != raster_crs:\n",
    "                gridcells = gridcells.to_crs(raster_crs)\n",
    "\n",
    "            # Get the geometry (polygon of the grid cell)\n",
    "            geom = [row.geometry]\n",
    "            \n",
    "            try:\n",
    "                # Check if grid cell intersects raster bounds first (for speed)\n",
    "                if not row.geometry.intersects(box(*src.bounds)):\n",
    "                    continue\n",
    "\n",
    "                # Mask the raster to the grid cell's geometry\n",
    "                out_image, out_transform = mask(src, geom, crop=True)\n",
    "                data = out_image[0]\n",
    "\n",
    "                # Mask out nodata values\n",
    "                nodata = src.nodata\n",
    "                if nodata is not None:\n",
    "                    data = np.ma.masked_equal(data, nodata)\n",
    "                else:\n",
    "                    data = np.ma.masked_invalid(data)\n",
    "\n",
    "                # Calculate the mean value of the habitat metric for the grid cell\n",
    "                mean_val = data.mean() if data.count() > 0 else np.nan\n",
    "\n",
    "                # Add the mean value for the current habitat metric\n",
    "                grid_cell_metrics[habitat_metric] = mean_val\n",
    "\n",
    "            except Exception as e:\n",
    "                print(f\"Failed to process {filename} for grid cell {idx}: {e}\")\n",
    "                grid_cell_metrics[habitat_metric] = np.nan  # If any error, assign NaN\n",
    "\n",
    "    # Append the grid cell's metrics to the results list\n",
    "    results.append(grid_cell_metrics)\n",
    "\n",
    "# Convert the results into a DataFrame\n",
    "df = pd.DataFrame(results)\n",
    "\n",
    "# Save the DataFrame to a CSV file\n",
    "df.to_csv(\"habitat_metrics_summary.csv\", index=False)\n",
    "print(\"Summary saved to 'habitat_metrics_summary.csv'\")\n"
   ]
  }
 ],
 "metadata": {
  "kernelspec": {
   "display_name": "Python 3 (ipykernel)",
   "language": "python",
   "name": "python3"
  },
  "language_info": {
   "codemirror_mode": {
    "name": "ipython",
    "version": 3
   },
   "file_extension": ".py",
   "mimetype": "text/x-python",
   "name": "python",
   "nbconvert_exporter": "python",
   "pygments_lexer": "ipython3",
   "version": "3.12.3"
  }
 },
 "nbformat": 4,
 "nbformat_minor": 5
}
