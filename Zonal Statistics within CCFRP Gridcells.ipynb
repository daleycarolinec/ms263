{
 "cells": [
  {
   "cell_type": "markdown",
   "id": "481a6451-2bf3-4065-bd8c-b7ec34849ffa",
   "metadata": {},
   "source": [
    "# Calculating Zonal Statistics \n",
    "MS 263 Final Project\n",
    "\n",
    "Caroline Daley | Moss Landing Marine Laboratories \n",
    "\n",
    "May 2025"
   ]
  },
  {
   "cell_type": "code",
   "execution_count": 42,
   "id": "f6b3ebe1-777f-4f15-8ae1-c06f8b2f1833",
   "metadata": {
    "tags": []
   },
   "outputs": [],
   "source": [
    "import geopandas as gpd\n",
    "import pandas as pd\n",
    "from rasterstats import zonal_stats\n",
    "import glob\n",
    "import os\n",
    "import xdem\n",
    "#import re\n",
    "#from rasterio.plot import show\n"
   ]
  },
  {
   "cell_type": "code",
   "execution_count": 53,
   "id": "db26e987-d6d8-4384-bb54-4e9875581c69",
   "metadata": {
    "tags": []
   },
   "outputs": [],
   "source": [
    "from shapely.geometry import box"
   ]
  },
  {
   "cell_type": "markdown",
   "id": "431cb1d2-15f6-42f8-a854-4dc061223173",
   "metadata": {},
   "source": [
    "Connect to local database to access habitat metric files created in \"\", as well as a shapefile of CCFRP gridcells. Make sure the habitat metric rasters and gridcell shapefile are in the same spatial reference system. "
   ]
  },
  {
   "cell_type": "code",
   "execution_count": 68,
   "id": "b060cbb8-f191-4a23-ace4-b7a820431feb",
   "metadata": {
    "tags": []
   },
   "outputs": [],
   "source": [
    "dem_folder = '/Users/carolinedaley/Documents/MLML/MS263/Project/Data/TRIAL'\n",
    "shapefile_path = '/Users/carolinedaley/Documents/MLML/MS263/Project/Data/shapefiles/Grid Cells Shapefile 2021/CCFRP_Grid_Cells_2021.shp'"
   ]
  },
  {
   "cell_type": "markdown",
   "id": "eefb2eab-6675-4410-b23e-336b57659c65",
   "metadata": {},
   "source": [
    "Make sure that the spatial reference of the shapefile matches the rasters of habitat metrics. "
   ]
  },
  {
   "cell_type": "code",
   "execution_count": 69,
   "id": "7ed387e9-2a05-43e8-9d16-ac765c13a7c9",
   "metadata": {
    "tags": []
   },
   "outputs": [
    {
     "ename": "IndexError",
     "evalue": "list index out of range",
     "output_type": "error",
     "traceback": [
      "\u001b[0;31m---------------------------------------------------------------------------\u001b[0m",
      "\u001b[0;31mIndexError\u001b[0m                                Traceback (most recent call last)",
      "Cell \u001b[0;32mIn[69], line 15\u001b[0m\n\u001b[1;32m     13\u001b[0m \u001b[38;5;66;03m# --- Get CRS from first DEM ---\u001b[39;00m\n\u001b[1;32m     14\u001b[0m dem_files \u001b[38;5;241m=\u001b[39m glob\u001b[38;5;241m.\u001b[39mglob(os\u001b[38;5;241m.\u001b[39mpath\u001b[38;5;241m.\u001b[39mjoin(dem_folder, \u001b[38;5;124m'\u001b[39m\u001b[38;5;124m*.tif\u001b[39m\u001b[38;5;124m'\u001b[39m))\n\u001b[0;32m---> 15\u001b[0m first_dem \u001b[38;5;241m=\u001b[39m \u001b[43mdem_files\u001b[49m\u001b[43m[\u001b[49m\u001b[38;5;241;43m0\u001b[39;49m\u001b[43m]\u001b[49m\n\u001b[1;32m     17\u001b[0m \u001b[38;5;66;03m# Get the CRS from the first DEM file\u001b[39;00m\n\u001b[1;32m     18\u001b[0m \u001b[38;5;28;01mwith\u001b[39;00m rasterio\u001b[38;5;241m.\u001b[39mopen(first_dem) \u001b[38;5;28;01mas\u001b[39;00m src:\n",
      "\u001b[0;31mIndexError\u001b[0m: list index out of range"
     ]
    }
   ],
   "source": [
    "import geopandas as gpd\n",
    "import rasterio\n",
    "import glob\n",
    "import os\n",
    "\n",
    "# --- Paths ---\n",
    "reprojected_shapefile_path = '/Users/carolinedaley/Documents/MLML/MS263/Project/Data/shapefiles/Grid_Cells_2021_reprojected.shp'\n",
    "\n",
    "\n",
    "# --- Read original shapefile ---\n",
    "gridcells = gpd.read_file(shapefile_path)\n",
    "\n",
    "# --- Get CRS from first DEM ---\n",
    "dem_files = glob.glob(os.path.join(dem_folder, '*.tif'))\n",
    "first_dem = dem_files[0]\n",
    "\n",
    "# Get the CRS from the first DEM file\n",
    "with rasterio.open(first_dem) as src:\n",
    "    common_crs = src.crs  # This will be used consistently everywhere\n",
    "\n",
    "# --- Reproject and save ---\n",
    "gridcells = gridcells.to_crs(common_crs)\n",
    "gridcells.to_file(reprojected_shapefile_path)\n",
    "print(f\"Reprojected shapefile saved to: {reprojected_shapefile_path}\")\n"
   ]
  },
  {
   "cell_type": "code",
   "execution_count": 67,
   "id": "5ead9437-9187-4019-b705-5b940e414544",
   "metadata": {
    "tags": []
   },
   "outputs": [
    {
     "ename": "RasterioIOError",
     "evalue": "/Users/carolinedaley/Documents/MLML/MS263/Project/Data/TRIAL/Bathymetry_OffshoreBodegaHead_rugosity.tif: No such file or directory",
     "output_type": "error",
     "traceback": [
      "\u001b[0;31m---------------------------------------------------------------------------\u001b[0m",
      "\u001b[0;31mCPLE_OpenFailedError\u001b[0m                      Traceback (most recent call last)",
      "File \u001b[0;32mrasterio/_base.pyx:310\u001b[0m, in \u001b[0;36mrasterio._base.DatasetBase.__init__\u001b[0;34m()\u001b[0m\n",
      "File \u001b[0;32mrasterio/_base.pyx:221\u001b[0m, in \u001b[0;36mrasterio._base.open_dataset\u001b[0;34m()\u001b[0m\n",
      "File \u001b[0;32mrasterio/_err.pyx:359\u001b[0m, in \u001b[0;36mrasterio._err.exc_wrap_pointer\u001b[0;34m()\u001b[0m\n",
      "\u001b[0;31mCPLE_OpenFailedError\u001b[0m: /Users/carolinedaley/Documents/MLML/MS263/Project/Data/TRIAL/Bathymetry_OffshoreBodegaHead_rugosity.tif: No such file or directory",
      "\nDuring handling of the above exception, another exception occurred:\n",
      "\u001b[0;31mRasterioIOError\u001b[0m                           Traceback (most recent call last)",
      "Cell \u001b[0;32mIn[67], line 9\u001b[0m\n\u001b[1;32m      6\u001b[0m gdf \u001b[38;5;241m=\u001b[39m gpd\u001b[38;5;241m.\u001b[39mread_file(shapefile_path)\n\u001b[1;32m      8\u001b[0m \u001b[38;5;66;03m# --- Plot the DEM and shapefile ---\u001b[39;00m\n\u001b[0;32m----> 9\u001b[0m \u001b[38;5;28;01mwith\u001b[39;00m \u001b[43mrasterio\u001b[49m\u001b[38;5;241;43m.\u001b[39;49m\u001b[43mopen\u001b[49m\u001b[43m(\u001b[49m\u001b[43mtest_file\u001b[49m\u001b[43m)\u001b[49m \u001b[38;5;28;01mas\u001b[39;00m src:\n\u001b[1;32m     10\u001b[0m     dem_crs \u001b[38;5;241m=\u001b[39m src\u001b[38;5;241m.\u001b[39mcrs\n\u001b[1;32m     12\u001b[0m     \u001b[38;5;66;03m# --- Plot ---\u001b[39;00m\n",
      "File \u001b[0;32m~/anaconda3/envs/data-25/lib/python3.12/site-packages/rasterio/env.py:463\u001b[0m, in \u001b[0;36mensure_env_with_credentials.<locals>.wrapper\u001b[0;34m(*args, **kwds)\u001b[0m\n\u001b[1;32m    460\u001b[0m     session \u001b[38;5;241m=\u001b[39m DummySession()\n\u001b[1;32m    462\u001b[0m \u001b[38;5;28;01mwith\u001b[39;00m env_ctor(session\u001b[38;5;241m=\u001b[39msession):\n\u001b[0;32m--> 463\u001b[0m     \u001b[38;5;28;01mreturn\u001b[39;00m \u001b[43mf\u001b[49m\u001b[43m(\u001b[49m\u001b[38;5;241;43m*\u001b[39;49m\u001b[43margs\u001b[49m\u001b[43m,\u001b[49m\u001b[43m \u001b[49m\u001b[38;5;241;43m*\u001b[39;49m\u001b[38;5;241;43m*\u001b[39;49m\u001b[43mkwds\u001b[49m\u001b[43m)\u001b[49m\n",
      "File \u001b[0;32m~/anaconda3/envs/data-25/lib/python3.12/site-packages/rasterio/__init__.py:356\u001b[0m, in \u001b[0;36mopen\u001b[0;34m(fp, mode, driver, width, height, count, crs, transform, dtype, nodata, sharing, opener, **kwargs)\u001b[0m\n\u001b[1;32m    353\u001b[0m     path \u001b[38;5;241m=\u001b[39m _parse_path(raw_dataset_path)\n\u001b[1;32m    355\u001b[0m \u001b[38;5;28;01mif\u001b[39;00m mode \u001b[38;5;241m==\u001b[39m \u001b[38;5;124m\"\u001b[39m\u001b[38;5;124mr\u001b[39m\u001b[38;5;124m\"\u001b[39m:\n\u001b[0;32m--> 356\u001b[0m     dataset \u001b[38;5;241m=\u001b[39m \u001b[43mDatasetReader\u001b[49m\u001b[43m(\u001b[49m\u001b[43mpath\u001b[49m\u001b[43m,\u001b[49m\u001b[43m \u001b[49m\u001b[43mdriver\u001b[49m\u001b[38;5;241;43m=\u001b[39;49m\u001b[43mdriver\u001b[49m\u001b[43m,\u001b[49m\u001b[43m \u001b[49m\u001b[43msharing\u001b[49m\u001b[38;5;241;43m=\u001b[39;49m\u001b[43msharing\u001b[49m\u001b[43m,\u001b[49m\u001b[43m \u001b[49m\u001b[38;5;241;43m*\u001b[39;49m\u001b[38;5;241;43m*\u001b[39;49m\u001b[43mkwargs\u001b[49m\u001b[43m)\u001b[49m\n\u001b[1;32m    357\u001b[0m \u001b[38;5;28;01melif\u001b[39;00m mode \u001b[38;5;241m==\u001b[39m \u001b[38;5;124m\"\u001b[39m\u001b[38;5;124mr+\u001b[39m\u001b[38;5;124m\"\u001b[39m:\n\u001b[1;32m    358\u001b[0m     dataset \u001b[38;5;241m=\u001b[39m get_writer_for_path(path, driver\u001b[38;5;241m=\u001b[39mdriver)(\n\u001b[1;32m    359\u001b[0m         path, mode, driver\u001b[38;5;241m=\u001b[39mdriver, sharing\u001b[38;5;241m=\u001b[39msharing, \u001b[38;5;241m*\u001b[39m\u001b[38;5;241m*\u001b[39mkwargs\n\u001b[1;32m    360\u001b[0m     )\n",
      "File \u001b[0;32mrasterio/_base.pyx:312\u001b[0m, in \u001b[0;36mrasterio._base.DatasetBase.__init__\u001b[0;34m()\u001b[0m\n",
      "\u001b[0;31mRasterioIOError\u001b[0m: /Users/carolinedaley/Documents/MLML/MS263/Project/Data/TRIAL/Bathymetry_OffshoreBodegaHead_rugosity.tif: No such file or directory"
     ]
    }
   ],
   "source": [
    "# --- Set paths ---\n",
    "shapefile_path = '/Users/carolinedaley/Documents/MLML/MS263/Project/Data/shapefiles/Grid_Cells_2021_reprojected.shp'\n",
    "test_file = '/Users/carolinedaley/Documents/MLML/MS263/Project/Data/TRIAL/Bathymetry_OffshoreBodegaHead_rugosity.tif'\n",
    "\n",
    "# --- Load reprojected shapefile ---\n",
    "gdf = gpd.read_file(shapefile_path)\n",
    "\n",
    "# --- Plot the DEM and shapefile ---\n",
    "with rasterio.open(test_file) as src:\n",
    "    dem_crs = src.crs\n",
    "\n",
    "    # --- Plot ---\n",
    "    fig, ax = plt.subplots(figsize=(10, 10))\n",
    "\n",
    "    # Show DEM\n",
    "    show(src, ax=ax, title=\"DEM with Reprojected Shapefile Overlay\")\n",
    "\n",
    "    # Show shapefile\n",
    "    gdf.plot(ax=ax, facecolor='none', edgecolor='red', linewidth=2)\n",
    "\n",
    "    # Focus on DEM extent\n",
    "    ax.set_xlim(src.bounds[0], src.bounds[2])\n",
    "    ax.set_ylim(src.bounds[1], src.bounds[3])\n",
    "\n",
    "    plt.show()\n",
    "\n",
    "print(shapefile.head())"
   ]
  },
  {
   "cell_type": "code",
   "execution_count": 65,
   "id": "6ed57e22-be79-4bbf-82bf-01af7e17f54a",
   "metadata": {
    "tags": []
   },
   "outputs": [
    {
     "name": "stdout",
     "output_type": "stream",
     "text": [
      "Nodata value for Bathymetry_OffshorePointConception_rugosity.tif: -3.4028234663852886e+38\n",
      "Unique values in the DEM: [-3.4028235e+38  1.0000000e+00  1.0000001e+00  1.0000002e+00\n",
      "  1.0000004e+00  1.0000005e+00  1.0000006e+00  1.0000007e+00\n",
      "  1.0000008e+00  1.0000010e+00]\n",
      "Valid data count: 134492005\n",
      "Number of intersecting grid cells for Bathymetry_OffshorePointConception_rugosity.tif: 25\n",
      "Nodata value for Bathymetry_OffshoreBodegaHead_rugosity.tif: -3.4028230607370965e+38\n",
      "Unique values in the DEM: [-3.4028231e+38  1.0000000e+00  1.0000031e+00  1.0000062e+00\n",
      "  1.0000094e+00  1.0000125e+00  1.0000156e+00  1.0000187e+00\n",
      "  1.0000218e+00  1.0000219e+00]\n",
      "Valid data count: 34873043\n",
      "Number of intersecting grid cells for Bathymetry_OffshoreBodegaHead_rugosity.tif: 27\n",
      "Nodata value for Bathymetry_OffshoreCapeMendocino_rugosity.tif: -3.4028234663852886e+38\n",
      "Unique values in the DEM: [-3.4028235e+38  1.0000000e+00  1.0000031e+00  1.0000062e+00\n",
      "  1.0000063e+00  1.0000093e+00  1.0000094e+00  1.0000124e+00\n",
      "  1.0000125e+00  1.0000156e+00]\n",
      "Valid data count: 39331311\n",
      "Number of intersecting grid cells for Bathymetry_OffshoreCapeMendocino_rugosity.tif: 77\n",
      "Nodata value for Bathymetry_OffshoreSanGregorio_rugosity.tif: -3.4028230607370965e+38\n",
      "Unique values in the DEM: [-3.4028231e+38  1.0000000e+00  1.0000001e+00  1.0000002e+00\n",
      "  1.0000004e+00  1.0000005e+00  1.0000006e+00  1.0000007e+00\n",
      "  1.0000008e+00  1.0000010e+00]\n",
      "Valid data count: 26589850\n",
      "Number of intersecting grid cells for Bathymetry_OffshoreSanGregorio_rugosity.tif: 3\n",
      "Nodata value for Bathymetry_OffshorePigeonPoint_rugosity.tif: -3.4028230607370965e+38\n",
      "Unique values in the DEM: [-3.4028231e+38  1.0000000e+00  1.0000004e+00  1.0000006e+00\n",
      "  1.0000007e+00  1.0000011e+00  1.0000014e+00  1.0000015e+00\n",
      "  1.0000017e+00  1.0000025e+00]\n",
      "Valid data count: 33740753\n",
      "Number of intersecting grid cells for Bathymetry_OffshorePigeonPoint_rugosity.tif: 20\n",
      "Nodata value for Bathymetry_OffshoreFortRoss_rugosity.tif: -3.4028230607370965e+38\n",
      "Unique values in the DEM: [-3.4028231e+38  1.0000000e+00  1.0000031e+00  1.0000062e+00\n",
      "  1.0000094e+00  1.0000125e+00  1.0000156e+00  1.0000187e+00\n",
      "  1.0000218e+00  1.0000219e+00]\n",
      "Valid data count: 29359579\n",
      "Number of intersecting grid cells for Bathymetry_OffshoreFortRoss_rugosity.tif: 10\n",
      "Nodata value for Bathymetry_OffshoreSaltPoint_rugosity.tif: -3.4028230607370965e+38\n",
      "Unique values in the DEM: [-3.4028231e+38  1.0000000e+00  1.0000031e+00  1.0000062e+00\n",
      "  1.0000094e+00  1.0000125e+00  1.0000156e+00  1.0000187e+00\n",
      "  1.0000218e+00  1.0000219e+00]\n",
      "Valid data count: 30860261\n",
      "Number of intersecting grid cells for Bathymetry_OffshoreSaltPoint_rugosity.tif: 14\n",
      "Saved zonal stats to zonal_stats_by_DEM.csv\n"
     ]
    }
   ],
   "source": [
    "import numpy as np\n",
    "\n",
    "# --- Initialize list for all results ---\n",
    "all_stats = []\n",
    "\n",
    "for dem_path in dem_files:\n",
    "    with rasterio.open(dem_path) as src:\n",
    "        dem_name = os.path.basename(dem_path)\n",
    "        bounds = src.bounds\n",
    "\n",
    "        # Check the nodata value in the DEM\n",
    "        nodata_value = src.nodata\n",
    "        print(f\"Nodata value for {dem_name}: {nodata_value}\")\n",
    "\n",
    "        # --- Debugging step: Check raster data for valid values ---\n",
    "        data = src.read(1)  # Read the first band of the raster\n",
    "        unique_values = np.unique(data)  # Check unique values\n",
    "        print(f\"Unique values in the DEM: {unique_values[:10]}\")  # Show first 10 unique values\n",
    "\n",
    "        # Check if the data has any valid values\n",
    "        valid_data = data[data != nodata_value]\n",
    "        print(f\"Valid data count: {len(valid_data)}\")\n",
    "\n",
    "        # Create bounding box GeoDataFrame for the DEM\n",
    "        dem_bbox = gpd.GeoDataFrame(geometry=[box(*bounds)], crs=common_crs)\n",
    "\n",
    "        # Filter grid cells that intersect with DEM bounding box\n",
    "        intersecting_cells = gdf_all[gdf_all.intersects(dem_bbox.geometry.iloc[0])]\n",
    "\n",
    "        if intersecting_cells.empty:\n",
    "            print(f\"No intersecting grid cells for: {dem_name}\")\n",
    "            continue\n",
    "        \n",
    "        # Debugging: Check how many grid cells are intersecting\n",
    "        print(f\"Number of intersecting grid cells for {dem_name}: {len(intersecting_cells)}\")\n",
    "        \n",
    "        # Run zonal statistics\n",
    "        stats = zonal_stats(\n",
    "            intersecting_cells,\n",
    "            dem_path,\n",
    "            stats=[\"mean\", \"min\", \"max\", \"std\"],\n",
    "            nodata=nodata_value  # Use the same nodata value from the DEM\n",
    "        )\n",
    "\n",
    "        if not stats:\n",
    "            print(f\"No zonal stats calculated for {dem_name}, stats is empty.\")\n",
    "            continue\n",
    "\n",
    "        # Combine stats with metadata\n",
    "        temp_df = intersecting_cells.copy()\n",
    "        temp_df[[\"mean\", \"min\", \"max\", \"std\"]] = pd.DataFrame(stats)\n",
    "        temp_df[\"dem_file\"] = dem_name\n",
    "\n",
    "        # No need to reproject again, as everything is in common_crs\n",
    "        all_stats.append(temp_df)\n",
    "\n",
    "# --- Combine all results ---\n",
    "if all_stats:\n",
    "    result = pd.concat(all_stats, ignore_index=True)\n",
    "    result.to_csv(\"zonal_stats_by_DEM.csv\", index=False)\n",
    "    print(\"Saved zonal stats to zonal_stats_by_DEM.csv\")\n",
    "else:\n",
    "    print(\"No overlapping stats computed.\")\n",
    "\n"
   ]
  },
  {
   "cell_type": "code",
   "execution_count": 66,
   "id": "6751d756-cea2-422d-a314-69fdc10e0286",
   "metadata": {
    "tags": []
   },
   "outputs": [
    {
     "name": "stdout",
     "output_type": "stream",
     "text": [
      "Min value in DEM: 1.0, Max value in DEM: 6.671098232269287\n"
     ]
    }
   ],
   "source": []
  }
 ],
 "metadata": {
  "kernelspec": {
   "display_name": "Python [conda env:data-25] *",
   "language": "python",
   "name": "conda-env-data-25-py"
  },
  "language_info": {
   "codemirror_mode": {
    "name": "ipython",
    "version": 3
   },
   "file_extension": ".py",
   "mimetype": "text/x-python",
   "name": "python",
   "nbconvert_exporter": "python",
   "pygments_lexer": "ipython3",
   "version": "3.12.8"
  }
 },
 "nbformat": 4,
 "nbformat_minor": 5
}
