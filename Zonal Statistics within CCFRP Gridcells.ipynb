{
 "cells": [
  {
   "cell_type": "markdown",
   "id": "481a6451-2bf3-4065-bd8c-b7ec34849ffa",
   "metadata": {},
   "source": [
    "# Calculating Zonal Statistics \n",
    "MS 263 Final Project\n",
    "\n",
    "Caroline Daley | Moss Landing Marine Laboratories \n",
    "\n",
    "May 2025"
   ]
  },
  {
   "cell_type": "code",
   "execution_count": 1,
   "id": "f6b3ebe1-777f-4f15-8ae1-c06f8b2f1833",
   "metadata": {
    "tags": []
   },
   "outputs": [],
   "source": [
    "import geopandas as gpd\n",
    "import pandas as pd\n",
    "import rasterio\n",
    "from rasterio.features import geometry_mask\n",
    "import glob\n",
    "import os\n",
    "import xdem\n",
    "import numpy as np\n",
    "from shapely.geometry import box\n",
    "from rasterio.mask import mask"
   ]
  },
  {
   "cell_type": "markdown",
   "id": "da587404-9aaa-4adb-8a0e-1eb5f1f21566",
   "metadata": {},
   "source": [
    "## Import & Format Spatial Data"
   ]
  },
  {
   "cell_type": "markdown",
   "id": "431cb1d2-15f6-42f8-a854-4dc061223173",
   "metadata": {},
   "source": [
    "Connect to local database to access habitat metric files created in the ['Calculate Habitat Metrics with xDEM'](http://localhost:8888/lab/tree/Project/ms263-main%202/Calculate%20Habitat%20Metrics%20with%20xDEM.ipynb) notebook, as well as a shapefile of CCFRP gridcells. Make sure the habitat metric rasters and gridcell shapefile are in the same spatial reference system. "
   ]
  },
  {
   "cell_type": "code",
   "execution_count": 4,
   "id": "b060cbb8-f191-4a23-ace4-b7a820431feb",
   "metadata": {
    "tags": []
   },
   "outputs": [],
   "source": [
    "# this path is specific to your local machine! \n",
    "raster_folder = \"C:\\\\Users\\\\FELAB\\\\Documents\\\\MS263\\\\Python Repository\\\\xDEM_Habitat_Metrics\"\n",
    "\n",
    "# this path is relational to this repository \n",
    "shapefile_path = \"Shapefiles/CCFRP_Grid_Cells_2021.shp\""
   ]
  },
  {
   "cell_type": "markdown",
   "id": "eefb2eab-6675-4410-b23e-336b57659c65",
   "metadata": {},
   "source": [
    "Make sure that the spatial reference of the shapefile matches the rasters of habitat metrics. "
   ]
  },
  {
   "cell_type": "code",
   "execution_count": 5,
   "id": "7ed387e9-2a05-43e8-9d16-ac765c13a7c9",
   "metadata": {
    "tags": []
   },
   "outputs": [
    {
     "ename": "NameError",
     "evalue": "name 'raster_folder' is not defined",
     "output_type": "error",
     "traceback": [
      "\u001b[0;31m---------------------------------------------------------------------------\u001b[0m",
      "\u001b[0;31mNameError\u001b[0m                                 Traceback (most recent call last)",
      "Cell \u001b[0;32mIn[5], line 6\u001b[0m\n\u001b[1;32m      3\u001b[0m gridcells \u001b[38;5;241m=\u001b[39m gpd\u001b[38;5;241m.\u001b[39mread_file(shapefile_path)\n\u001b[1;32m      5\u001b[0m \u001b[38;5;66;03m# --- Get CRS from first DEM ---\u001b[39;00m\n\u001b[0;32m----> 6\u001b[0m raster_files \u001b[38;5;241m=\u001b[39m glob\u001b[38;5;241m.\u001b[39mglob(os\u001b[38;5;241m.\u001b[39mpath\u001b[38;5;241m.\u001b[39mjoin(\u001b[43mraster_folder\u001b[49m, \u001b[38;5;124m'\u001b[39m\u001b[38;5;124m*.tif\u001b[39m\u001b[38;5;124m'\u001b[39m))\n\u001b[1;32m      7\u001b[0m first_raster \u001b[38;5;241m=\u001b[39m raster_files[\u001b[38;5;241m0\u001b[39m]\n\u001b[1;32m      9\u001b[0m \u001b[38;5;66;03m# Get the CRS from the first DEM file\u001b[39;00m\n",
      "\u001b[0;31mNameError\u001b[0m: name 'raster_folder' is not defined"
     ]
    }
   ],
   "source": [
    "reprojected_shapefile_path = shapefile_path+'_reprojected.shp'\n",
    "\n",
    "gridcells = gpd.read_file(shapefile_path)\n",
    "\n",
    "# --- Get CRS from first DEM ---\n",
    "raster_files = glob.glob(os.path.join(raster_folder, '*.tif'))\n",
    "first_raster = raster_files[0]\n",
    "\n",
    "# Get the CRS from the first DEM file\n",
    "with rasterio.open(first_raster) as src:\n",
    "    common_crs = src.crs  # Define common crs for project\n",
    "\n",
    "gridcells = gridcells.to_crs(common_crs)\n",
    "gridcells.to_file(reprojected_shapefile_path)"
   ]
  },
  {
   "cell_type": "markdown",
   "id": "e0616328-9ce5-47e3-8240-4ca352402011",
   "metadata": {},
   "source": [
    "## Perform Zonal Statistics"
   ]
  },
  {
   "cell_type": "markdown",
   "id": "d3e4fac9-0d08-4282-9a47-11f03a0477ce",
   "metadata": {},
   "source": [
    "I relied on the ['Introduction to Geospatial Raster and Vector Data with Python'](https://carpentries-incubator.github.io/geospatial-python/10-zonal-statistics.html) to build and [Chat GPT](https://chatgpt.com/) to loop the following code for performing zonal statistics.\n",
    "\n",
    "This code uses zonal statistics to calculate the mean of each habitat metirc within each CCFRP-sampled grid cell. The output of this code is a .csv file of mean habitat metrics within each gridcell by its 'Site' (MPA versus reference site) and 'Location' (name of the MPA being sampled). "
   ]
  },
  {
   "cell_type": "code",
   "execution_count": 14,
   "id": "6ed57e22-be79-4bbf-82bf-01af7e17f54a",
   "metadata": {
    "tags": []
   },
   "outputs": [
    {
     "name": "stdout",
     "output_type": "stream",
     "text": [
      "Summary saved to 'habitat_metrics_summary.csv'\n"
     ]
    }
   ],
   "source": [
    "# Locate newly reprojected shapefile\n",
    "gridcells = gpd.read_file(reprojected_shapefile_path)\n",
    "\n",
    "# Identify relevant attributes\n",
    "location_field = 'Location'       # 'Site' notes the area (e.g. Point Lobos)\n",
    "site_field = 'Site'           # 'ID' notes whether the gridcell is in an MPA or REF\n",
    "\n",
    "# Redefine where habitat metric rasters are located \n",
    "raster_files = glob.glob(os.path.join(raster_folder, '*.tif'))\n",
    "\n",
    "# Build a container for results\n",
    "results = []\n",
    "\n",
    "# Loop over all grid cells\n",
    "for idx, row in gridcells.iterrows():\n",
    "    # Get ID and Site for each grid cell\n",
    "    location = row[location_field] if pd.notna(row[location_field]) else 'Unknown'\n",
    "    \n",
    "    # Container for the grid cell's habitat metrics\n",
    "    grid_cell_metrics = {\n",
    "        \"Site\": row[site_field],      # Include ID from shapefile\n",
    "        \"Location\": location          # Include Site from shapefile\n",
    "    }\n",
    "\n",
    "    # Loop over each habitat metric file\n",
    "    for filepath in raster_files:\n",
    "        filename = os.path.basename(filepath)\n",
    "        habitat_metric = filename.split('_')[-1].replace('.tif', '')\n",
    "\n",
    "        # Open the raster (DEM)\n",
    "        with rasterio.open(filepath) as src:\n",
    "            raster_crs = src.crs\n",
    "\n",
    "            # Reproject shapefile to match raster CRS if needed\n",
    "            if gridcells.crs != raster_crs:\n",
    "                gridcells = gridcells.to_crs(raster_crs)\n",
    "\n",
    "            # Get the geometry of the grid cell\n",
    "            geom = [row.geometry]\n",
    "            \n",
    "            try:\n",
    "                # Check if grid cell intersects raster bounds first\n",
    "                if not row.geometry.intersects(box(*src.bounds)):\n",
    "                    continue\n",
    "\n",
    "                # Mask the raster to the grid cell's geometry\n",
    "                out_image, out_transform = mask(src, geom, crop=True)\n",
    "                data = out_image[0]\n",
    "\n",
    "                # Mask out nodata values\n",
    "                nodata = src.nodata\n",
    "                if nodata is not None:\n",
    "                    data = np.ma.masked_equal(data, nodata)\n",
    "                else:\n",
    "                    data = np.ma.masked_invalid(data)\n",
    "\n",
    "                # Calculate the mean value of the habitat metric for the grid cell\n",
    "                mean_val = data.mean() if data.count() > 0 else np.nan\n",
    "\n",
    "                # Add the mean value for the current habitat metric\n",
    "                grid_cell_metrics[habitat_metric] = mean_val\n",
    "\n",
    "            except Exception as e:\n",
    "                print(f\"Failed to process {filename} for grid cell {idx}: {e}\")\n",
    "                grid_cell_metrics[habitat_metric] = np.nan  # If any error, assign NaN\n",
    "\n",
    "    # Append the grid cell's metrics to the results list\n",
    "    results.append(grid_cell_metrics)\n",
    "\n",
    "# Convert the results into a DataFrame\n",
    "df = pd.DataFrame(results)\n",
    "\n",
    "# Save the DataFrame to a CSV file\n",
    "df.to_csv(\"habitat_metrics_summary.csv\", index=False)\n",
    "print(\"Summary saved to 'habitat_metrics_summary.csv'\")"
   ]
  }
 ],
 "metadata": {
  "kernelspec": {
   "display_name": "Python [conda env:data-25] *",
   "language": "python",
   "name": "conda-env-data-25-py"
  },
  "language_info": {
   "codemirror_mode": {
    "name": "ipython",
    "version": 3
   },
   "file_extension": ".py",
   "mimetype": "text/x-python",
   "name": "python",
   "nbconvert_exporter": "python",
   "pygments_lexer": "ipython3",
   "version": "3.12.8"
  }
 },
 "nbformat": 4,
 "nbformat_minor": 5
}
